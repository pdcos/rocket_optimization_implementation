{
 "cells": [
  {
   "cell_type": "code",
   "execution_count": 7,
   "metadata": {},
   "outputs": [],
   "source": [
    "from math import log\n",
    "from rocketcea.cea_obj_w_units import CEA_Obj\n",
    "from proptools import nozzle  \n"
   ]
  },
  {
   "cell_type": "code",
   "execution_count": 8,
   "metadata": {},
   "outputs": [
    {
     "name": "stdout",
     "output_type": "stream",
     "text": [
      " Pc(psia) AreaRatio  MixtureRatio   IspVac(sec)  IspDel(sec)   deltaV(ft/sec)\n",
      "   475.0    120.0        5.88       322.1        312.2         14822.7     \n"
     ]
    }
   ],
   "source": [
    "C = CEA_Obj(oxName=\"LOX\", fuelName=\"RP-1\")\n",
    "\n",
    "Wpayload = 8500\n",
    "Wstg = 5106\n",
    "Wpropellant = 45920\n",
    "\n",
    "Winit = Wstg + Wpropellant + Wpayload\n",
    "Wfinal = Winit - Wpropellant\n",
    "\n",
    "def show_deltaV( Pc=475.0, eps=84.0, MR=5.88 ):\n",
    "    IspVac = C.get_Isp(Pc=Pc, MR=MR, eps=eps)\n",
    "    IspDel = 0.969 * IspVac\n",
    "    deltaV = 32.174 * IspDel * log( Winit / Wfinal ) # ft/sec\n",
    "    print( '%8.1f %8.1f    %8.2f    %8.1f     %8.1f        %8.1f     '%(Pc, eps, MR, IspVac, IspDel, deltaV))\n",
    "\n",
    "print(' Pc(psia) AreaRatio  MixtureRatio   IspVac(sec)  IspDel(sec)   deltaV(ft/sec)')\n",
    "show_deltaV(Pc=475, eps=120)\n"
   ]
  },
  {
   "cell_type": "code",
   "execution_count": null,
   "metadata": {},
   "outputs": [],
   "source": []
  },
  {
   "cell_type": "markdown",
   "metadata": {},
   "source": [
    "# Missão"
   ]
  },
  {
   "cell_type": "code",
   "execution_count": 9,
   "metadata": {},
   "outputs": [],
   "source": [
    "deltav_mission = 12000\n",
    "payload_weight = 5000\n",
    "payload_height = 6.7\n",
    "payload_diameter = 4.6"
   ]
  },
  {
   "cell_type": "markdown",
   "metadata": {},
   "source": [
    "# Parâmetros Fixos"
   ]
  },
  {
   "cell_type": "code",
   "execution_count": 10,
   "metadata": {},
   "outputs": [],
   "source": [
    "n_stages = 2\n",
    "deltav_stages = {1: 3500, 2: 8500}\n",
    "stage_radii = {1: 1.8, 2: 1.8}\n",
    "oxidizer = \"LOX\"\n",
    "fuel = \"RP-1\"\n",
    "engine_cycle = \"Gas Generator\"\n",
    "chamber_pressure = {1: 97, 2: 97}\n",
    "coef_estrutual = {1: 0.06, 2: 0.05}\n",
    "max_n_engines = {1: 15, 2: 1}\n"
   ]
  },
  {
   "cell_type": "markdown",
   "metadata": {},
   "source": [
    "# Fronteira dos parâmetros"
   ]
  },
  {
   "cell_type": "code",
   "execution_count": 11,
   "metadata": {},
   "outputs": [],
   "source": [
    "mixture_ratior_border = {\"begin\": 1.5, \"end\": 3.5}\n",
    "throat_diameter_border = {\"begin\": 0.2, \"end\": 0.3}"
   ]
  },
  {
   "cell_type": "markdown",
   "metadata": {},
   "source": [
    "# Restrições"
   ]
  },
  {
   "cell_type": "code",
   "execution_count": 12,
   "metadata": {},
   "outputs": [],
   "source": [
    "min_acceleration = {1: 1.3, 2: 0.8}\n",
    "max_ld_ration = {1: 25, 2: 25}\n",
    "molar_masses = {\"LOX\":32, \"RP-1\":175}"
   ]
  },
  {
   "cell_type": "markdown",
   "metadata": {},
   "source": [
    "# -------"
   ]
  },
  {
   "cell_type": "code",
   "execution_count": 13,
   "metadata": {},
   "outputs": [
    {
     "name": "stdout",
     "output_type": "stream",
     "text": [
      "6.930065005430962\n",
      "Isp Vac: 350.60767346744154 Isp Sea: 136.35328867508358\n",
      "Mass flow: 298.4472616654054\n",
      "Thrust Vac 973818.3344951972 Thrust Sea 1026147.6426383896\n"
     ]
    }
   ],
   "source": [
    "import math\n",
    "\n",
    "class Engine:\n",
    "    def __init__(self,\n",
    "                 fuel_name:str,\n",
    "                 ox_name:str,\n",
    "                 mr:float,\n",
    "                 pc:float,\n",
    "                 nozzle_diam:float,\n",
    "                 eps:float):\n",
    "        \"\"\"\n",
    "        fuel_name: \n",
    "        ox_name (oxidizer name):\n",
    "        mr (mixture ratio):\n",
    "        nozzle_diam (nozzle throat diameter):\n",
    "        esp (nozzle expansion ratio)\n",
    "        \"\"\"\n",
    "        \n",
    "        self.fuel_name = fuel_name\n",
    "        self.ox_name = ox_name\n",
    "        self.mr = mr\n",
    "        self.pc = pc\n",
    "        self.nozzle_diam = nozzle_diam\n",
    "        self.eps = eps\n",
    "\n",
    "        self.R_universal = 8.314462 # Constante universal dos gases\n",
    "\n",
    "        self.C = CEA_Obj(oxName=self.ox_name, \n",
    "                         fuelName=self.fuel_name,\n",
    "                         isp_units='sec',\n",
    "                         cstar_units='m/s', \n",
    "                         pressure_units='MPa', \n",
    "                         temperature_units='K', \n",
    "                         sonic_velocity_units='m/s', \n",
    "                         enthalpy_units='J/g', \n",
    "                         density_units='kg/m^3', \n",
    "                         specific_heat_units='J/kg-K', \n",
    "                         viscosity_units='millipoise', \n",
    "                         thermal_cond_units='mcal/cm-K-s')\n",
    "\n",
    "\n",
    "    def get_F_vac(self):\n",
    "        #IspVac, Pe_vac = self.C.estimate_Ambient_Isp(Pc=self.pc, MR=self.mr, eps=self.eps, Pamb=0.00001)\n",
    "        IspVac = self.C.get_Isp(Pc=self.pc, MR=self.mr, eps=self.eps)\n",
    "        IspAmb, Pe_amb = self.C.estimate_Ambient_Isp(Pc=self.pc,Pamb=1e5, MR=self.mr, eps=self.eps)\n",
    "        temperature_chamber, temperature_throat, temperature_exit = self.C.get_Temperatures(Pc=self.pc, MR=self.mr, eps=self.eps)\n",
    "        pc_pe = self.C.get_PcOvPe(Pc=self.pc, MR=self.mr, eps=self.eps)\n",
    "        chamber_velocity, throat_velocity, exit_velocity = self.C.get_SonicVelocities(Pc=self.pc, MR=self.mr, eps=self.eps)\n",
    "        chamber_density, throat_density, exit_density = self.C.get_Densities(Pc=self.pc, MR=self.mr, eps=self.eps)\n",
    "        exit_mach = self.C.get_MachNumber(Pc=self.pc, MR=self.mr, eps=self.eps)\n",
    "        cf_vac, cf_sea, cf_mode = self.C.get_PambCf(Pc=self.pc, MR=self.mr, eps=self.eps, Pamb=1)#thrust coefficient\n",
    "\n",
    "        nozzle_throat_area = math.pi*((self.nozzle_diam/2) **2)\n",
    "        nozzle_exit_area = nozzle_throat_area * self.eps\n",
    "        pe = 1/pc_pe * self.pc\n",
    "\n",
    "        exit_speed = exit_mach * exit_velocity/1000\n",
    "        mass_flow = exit_density/1000 * nozzle_exit_area * exit_speed\n",
    "        thrust_vacuum = mass_flow * exit_velocity + pe  * nozzle_exit_area\n",
    "        thrust_sea = mass_flow * exit_velocity + (pe-1e5)* nozzle_exit_area\n",
    "\n",
    "        thrust_vacuum = cf_vac * self.pc * nozzle_throat_area\n",
    "        thrust_sea = cf_sea * self.pc * nozzle_throat_area\n",
    "\n",
    "\n",
    "        print(nozzle_exit_area)\n",
    "        print(\"Isp Vac: \" + str(IspVac),\"Isp Sea: \" + str(IspAmb)) \n",
    "        print(\"Mass flow: \" + str(mass_flow))\n",
    "        print(f\"Thrust Vac {thrust_vacuum}\", f\"Thrust Sea {thrust_sea}\")\n",
    "\n",
    "        return\n",
    "\n",
    "\n",
    "\n",
    "engine = Engine(fuel_name=\"RP-1\", \n",
    "                ox_name=\"LOX\",\n",
    "                mr=2.3,\n",
    "                pc=9.7*1e6 ,\n",
    "                nozzle_diam=0.23125,\n",
    "                eps=165)\n",
    "\n",
    "engine.get_F_vac()\n",
    "\n"
   ]
  },
  {
   "cell_type": "code",
   "execution_count": 14,
   "metadata": {},
   "outputs": [
    {
     "name": "stdout",
     "output_type": "stream",
     "text": [
      "6.930065005430962\n",
      "Isp Vac: 350.60767346744154 Isp Sea: 136.35328867508358\n",
      "Mass flow: 298.4472616654054\n",
      "Thrust Vac 973818.3344951972 Thrust Sea 1026147.6426383896\n"
     ]
    }
   ],
   "source": [
    "engine = Engine(fuel_name=\"RP-1\", \n",
    "                ox_name=\"LOX\",\n",
    "                mr=2.3,\n",
    "                pc=9.7*1e6 ,\n",
    "                nozzle_diam=0.23125,\n",
    "                eps=165)\n",
    "\n",
    "engine.get_F_vac()\n"
   ]
  },
  {
   "attachments": {},
   "cell_type": "markdown",
   "metadata": {},
   "source": [
    "# Modelo de motor usando proptools "
   ]
  },
  {
   "cell_type": "code",
   "execution_count": 16,
   "metadata": {},
   "outputs": [
    {
     "name": "stdout",
     "output_type": "stream",
     "text": [
      "Isp Vac (s): 305.5677676625125\n",
      "Isp Sea (s): (274.39544109463185, 'OverExpanded (Pe=1.39683e+07)')\n",
      "Mass flow (kg/s): 294.4607412091103\n",
      "Thrust Vac (kN): 905.7796996285897\n",
      "Thrust Sea (kN): 815.8996996285897\n"
     ]
    }
   ],
   "source": [
    "class EngineProp:\n",
    "    def __init__(self,\n",
    "                 fuelName:str,\n",
    "                 oxName:str,\n",
    "                 MR:float,\n",
    "                 Pc:float,\n",
    "                 eps:float,\n",
    "                 nozzleDiam = None,\n",
    "                 At=None):\n",
    "        \"\"\"\n",
    "        fuel_name: \n",
    "        ox_name (oxidizer name):\n",
    "        mr (mixture ratio):\n",
    "        nozzle_diam (nozzle throat diameter):\n",
    "        esp (nozzle expansion ratio)\n",
    "        At (Area - throat)\n",
    "        \"\"\"\n",
    "        \n",
    "        self.fuelName = fuelName\n",
    "        self.oxName = oxName\n",
    "        self.MR = MR\n",
    "        self.Pc = Pc\n",
    "        self.nozzleDiam = nozzleDiam\n",
    "        self.eps = eps\n",
    "        self.At = At\n",
    "\n",
    "        # Podemos escolher informar o diametro do throat ou a area\n",
    "        if ((self.At == None) and (self.nozzleDiam != None)):\n",
    "            self.At = np.pi * ((self.nozzleDiam/2) ** 2)\n",
    "        elif ((self.At == None) and (self.nozzleDiam == None)):\n",
    "            raise(\"Informar At ou nozzleDiam\")\n",
    "        elif ((self.At != None) and (self.nozzleDiam != None)):\n",
    "            raise(\"Informar apenas 1: At ou nozzleDiam\")\n",
    "\n",
    "        # Pressao precisa estar em MPa apesar e dados precisam ser fornecidos na ordem de 1e6\n",
    "        self.ceaObj = CEA_Obj( oxName=oxName, fuelName=fuelName, pressure_units='MPa', cstar_units='m/s', temperature_units='K')\n",
    "\n",
    "    def calcGasProperties(self):\n",
    "        # mw -> Molecular weight\n",
    "        # Cstar -> Characteristc velocity (Isp * g0 / Cf)\n",
    "        IspVac, Cstar, Tc, mw, gamma = self.ceaObj.get_IvacCstrTc_ChmMwGam(Pc=self.Pc, MR=self.MR, eps=self.eps)\n",
    "        return\n",
    "    \n",
    "    def calcEngineProperties(self):\n",
    "        IspVac, Cstar, Tc, mw, gamma = self.ceaObj.get_IvacCstrTc_ChmMwGam(Pc=self.Pc, MR=self.MR, eps=self.eps)\n",
    "        m_molar = mw/1000\n",
    "        IspSea = self.ceaObj.estimate_Ambient_Isp(Pc=self.Pc, MR=self.MR, eps=self.eps, Pamb=1e5)\n",
    "        Pc = self.Pc \n",
    "\n",
    "\n",
    "        Pe = Pc * nozzle.pressure_from_er(self.eps, gamma)\n",
    "        # Empuxo no vacuo (N)\n",
    "        thrustVac = nozzle.thrust(A_t = self.At,\n",
    "                                  p_c = Pc,\n",
    "                                  p_e = Pe,\n",
    "                                  p_a = 0,\n",
    "                                  gamma=gamma,\n",
    "                                  er = self.eps)\n",
    "        # Empuxo no nivel do mar (N)\n",
    "        thrustSea = nozzle.thrust(A_t = self.At,\n",
    "                                  p_c = Pc,\n",
    "                                  p_e = Pe,\n",
    "                                  p_a = 1e5,\n",
    "                                  gamma=gamma,\n",
    "                                  er = self.eps)\n",
    "        # Fluxo de mass (kg/s)\n",
    "        massFlow = nozzle.mass_flow(A_t = self.At,\n",
    "                                     p_c = Pc,\n",
    "                                     T_c = Tc,\n",
    "                                     gamma = gamma,\n",
    "                                     m_molar = m_molar\n",
    "                                     )   \n",
    "\n",
    "        print(\"Isp Vac (s): \" + str(IspVac))\n",
    "        print(\"Isp Sea (s): \" + str(IspSea))\n",
    "        print(\"Mass flow (kg/s): \" + str(massFlow))\n",
    "        print(\"Thrust Vac (kN): \" + str(thrustVac/1000))\n",
    "        print(\"Thrust Sea (kN): \" + str(thrustSea/1000))\n",
    "\n",
    "        self.IspVac = IspVac\n",
    "        self.IspSea = IspSea\n",
    "        self.massFlow = massFlow\n",
    "        self.thrustVac = thrustVac\n",
    "        self.thrustSea = thrustSea\n",
    "\n",
    "    def estimateMass(self):\n",
    "        ...\n",
    "\n",
    "\n",
    "\n",
    "engine = EngineProp(fuelName=\"RP-1\", \n",
    "                oxName=\"LOX\",\n",
    "                MR=2.36,\n",
    "                Pc=9.7*1e6 ,\n",
    "                At=0.042,\n",
    "                eps=21.4)\n",
    "\n",
    "engine.calcEngineProperties()\n",
    "\n",
    "\n",
    "    \n"
   ]
  },
  {
   "attachments": {},
   "cell_type": "markdown",
   "metadata": {},
   "source": [
    "# Estimando massa dos motores"
   ]
  },
  {
   "cell_type": "code",
   "execution_count": 22,
   "metadata": {},
   "outputs": [
    {
     "name": "stdout",
     "output_type": "stream",
     "text": [
      "massa do motor: 1531.9743933283971\n",
      "massa do TVC: 239.65609680000003\n",
      "massa total do sistema de propulsao: 1771.6304901283972\n"
     ]
    }
   ],
   "source": [
    "def estimate_engine_mass(propellantType, thrustVac):\n",
    "    \"\"\"\n",
    "    Estima a massa do motor\n",
    "    \n",
    "    :param proppelantType: Tipo de propelente - pode ser \"Cryogenic-Cryogenic\" ou \"Cryogenic-Storable\"\n",
    "    :param thrustVac: Empuxo do motor no váculo em Newtons\n",
    "    :return massTvc: Massa estimada do TVC em kg \n",
    "    \"\"\"\n",
    "    if propellantType == \"Cryogenic-Cryogenic\":\n",
    "        engineMass = 7.54354 * (1e-3) * (thrustVac ** (8.85635 * (1e-1))) + 2.02881 * (1e1)\n",
    "    elif propellantType == \"Cryogenic-Storable\":\n",
    "        engineMass = 3.75407 * (1e3) * (thrustVac ** (7.05627 * (1e-2))) - 8.84790 * (1e3)\n",
    "    else:\n",
    "        raise Exception(\"Selecione um tipo de propelente válido!\")\n",
    "    return engineMass\n",
    "\n",
    "def estimate_tvc_mass(thrustVac):\n",
    "    \"\"\"\n",
    "    Estima a massa do Thrust Vector Control System (TVC)\n",
    "    \n",
    "    :param thrustVac: Empuxo do motor no váculo em Newtons\n",
    "    :return massTvc: Massa estimada do TVC em kg \n",
    "    \"\"\"\n",
    "    massTvc = 0.1078 * (thrustVac/1e3) + 43.702\n",
    "    return massTvc \n",
    "\n",
    "\n",
    "engineMass = estimate_engine_mass(\"Cryogenic-Storable\",1817756)\n",
    "massTvc = estimate_tvc_mass(1817756)\n",
    "print(f\"massa do motor: {engineMass}\")\n",
    "print(f\"massa do TVC: {massTvc}\")\n",
    "print(f\"massa total do sistema de propulsao: {engineMass + massTvc}\")"
   ]
  },
  {
   "attachments": {},
   "cell_type": "markdown",
   "metadata": {},
   "source": [
    "# Referências bibliográficas\n",
    "\n",
    "- https://cearun.grc.nasa.gov/intro.html\n",
    "- https://www.grc.nasa.gov/www/k-12/airplane/mflchk.html\n",
    "- https://rocketcea.readthedocs.io/en/latest/functions.html\n",
    "- http://www.braeunig.us/space/index.htm\n",
    "- https://www.grc.nasa.gov/www/k-12/airplane/rktthsum.html\n",
    "- https://www.grc.nasa.gov/www/k-12/rocket/nozzle.html\n",
    "- http://mae-nas.eng.usu.edu/MAE_5420_Web/section5/section.5.3.pdf\n",
    "- http://mae-nas.eng.usu.edu/MAE_5540_Web/propulsion_systems/MAE_5540_2022.html\n",
    "\n",
    "\n",
    "# Motor Merlin-1D - Especificações\n",
    "- https://www.wevolver.com/specs/merlin-engine-merlin-1d-falcon-9-falcon-heavy\n",
    "- http://www.b14643.de/Spacerockets_2/United_States_1/Falcon-9/Merlin/index.htm\n",
    "\n",
    "# Implementacoes\n",
    "- https://proptools.readthedocs.io/en/latest/\n",
    "- https://github.com/bluedack-space/OnlineRocketDesigner/blob/d8bb006de7a5c596b64008793a9bc778327d9143/rocketEngineHandler.py#L65\n",
    "\n"
   ]
  }
 ],
 "metadata": {
  "kernelspec": {
   "display_name": "Python 3.9.13 ('deeplearning')",
   "language": "python",
   "name": "python3"
  },
  "language_info": {
   "codemirror_mode": {
    "name": "ipython",
    "version": 3
   },
   "file_extension": ".py",
   "mimetype": "text/x-python",
   "name": "python",
   "nbconvert_exporter": "python",
   "pygments_lexer": "ipython3",
   "version": "3.9.13"
  },
  "orig_nbformat": 4,
  "vscode": {
   "interpreter": {
    "hash": "fed2aa9592218c4b4de25ecb09c6b292eb81f342cc059d9c96856c64676dbef4"
   }
  }
 },
 "nbformat": 4,
 "nbformat_minor": 2
}
