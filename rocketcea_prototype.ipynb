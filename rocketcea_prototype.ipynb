{
 "cells": [
  {
   "cell_type": "code",
   "execution_count": 1,
   "metadata": {},
   "outputs": [],
   "source": [
    "from math import log\n",
    "from rocketcea.cea_obj_w_units import CEA_Obj"
   ]
  },
  {
   "cell_type": "code",
   "execution_count": 2,
   "metadata": {},
   "outputs": [
    {
     "name": "stdout",
     "output_type": "stream",
     "text": [
      " Pc(psia) AreaRatio  MixtureRatio   IspVac(sec)  IspDel(sec)   deltaV(ft/sec)\n",
      "   475.0    120.0        5.88       322.1        312.2         14822.7     \n"
     ]
    }
   ],
   "source": [
    "C = CEA_Obj(oxName=\"LOX\", fuelName=\"RP-1\")\n",
    "\n",
    "Wpayload = 8500\n",
    "Wstg = 5106\n",
    "Wpropellant = 45920\n",
    "\n",
    "Winit = Wstg + Wpropellant + Wpayload\n",
    "Wfinal = Winit - Wpropellant\n",
    "\n",
    "def show_deltaV( Pc=475.0, eps=84.0, MR=5.88 ):\n",
    "    IspVac = C.get_Isp(Pc=Pc, MR=MR, eps=eps)\n",
    "    IspDel = 0.969 * IspVac\n",
    "    deltaV = 32.174 * IspDel * log( Winit / Wfinal ) # ft/sec\n",
    "    print( '%8.1f %8.1f    %8.2f    %8.1f     %8.1f        %8.1f     '%(Pc, eps, MR, IspVac, IspDel, deltaV))\n",
    "\n",
    "print(' Pc(psia) AreaRatio  MixtureRatio   IspVac(sec)  IspDel(sec)   deltaV(ft/sec)')\n",
    "show_deltaV(Pc=475, eps=120)\n"
   ]
  },
  {
   "cell_type": "code",
   "execution_count": null,
   "metadata": {},
   "outputs": [],
   "source": []
  },
  {
   "cell_type": "markdown",
   "metadata": {},
   "source": [
    "# Missão"
   ]
  },
  {
   "cell_type": "code",
   "execution_count": 3,
   "metadata": {},
   "outputs": [],
   "source": [
    "deltav_mission = 12000\n",
    "payload_weight = 5000\n",
    "payload_height = 6.7\n",
    "payload_diameter = 4.6"
   ]
  },
  {
   "cell_type": "markdown",
   "metadata": {},
   "source": [
    "# Parâmetros Fixos"
   ]
  },
  {
   "cell_type": "code",
   "execution_count": 4,
   "metadata": {},
   "outputs": [],
   "source": [
    "n_stages = 2\n",
    "deltav_stages = {1: 3500, 2: 8500}\n",
    "stage_radii = {1: 1.8, 2: 1.8}\n",
    "oxidizer = \"LOX\"\n",
    "fuel = \"RP-1\"\n",
    "engine_cycle = \"Gas Generator\"\n",
    "chamber_pressure = {1: 97, 2: 97}\n",
    "coef_estrutual = {1: 0.06, 2: 0.05}\n",
    "max_n_engines = {1: 15, 2: 1}\n"
   ]
  },
  {
   "cell_type": "markdown",
   "metadata": {},
   "source": [
    "# Fronteira dos parâmetros"
   ]
  },
  {
   "cell_type": "code",
   "execution_count": 5,
   "metadata": {},
   "outputs": [],
   "source": [
    "mixture_ratior_border = {\"begin\": 1.5, \"end\": 3.5}\n",
    "throat_diameter_border = {\"begin\": 0.2, \"end\": 0.3}"
   ]
  },
  {
   "cell_type": "markdown",
   "metadata": {},
   "source": [
    "# Restrições"
   ]
  },
  {
   "cell_type": "code",
   "execution_count": 6,
   "metadata": {},
   "outputs": [],
   "source": [
    "min_acceleration = {1: 1.3, 2: 0.8}\n",
    "max_ld_ration = {1: 25, 2: 25}\n",
    "molar_masses = {\"LOX\":32, \"RP-1\":175}"
   ]
  },
  {
   "cell_type": "markdown",
   "metadata": {},
   "source": [
    "# -------"
   ]
  },
  {
   "cell_type": "code",
   "execution_count": 51,
   "metadata": {},
   "outputs": [
    {
     "name": "stdout",
     "output_type": "stream",
     "text": [
      "19900.073124247043\n",
      "97 0.04554990123384743\n",
      "3756.9659075129844\n"
     ]
    },
    {
     "data": {
      "text/plain": [
       "113448876.85503739"
      ]
     },
     "execution_count": 51,
     "metadata": {},
     "output_type": "execute_result"
    }
   ],
   "source": [
    "import math\n",
    "\n",
    "class Engine:\n",
    "    def __init__(self,\n",
    "                 fuel_name:str,\n",
    "                 ox_name:str,\n",
    "                 mr:float,\n",
    "                 pc:float,\n",
    "                 nozzle_diam:float,\n",
    "                 eps:float):\n",
    "        \"\"\"\n",
    "        fuel_name: \n",
    "        ox_name (oxidizer name):\n",
    "        mr (mixture ratio):\n",
    "        nozzle_diam (nozzle throat diameter):\n",
    "        esp (nozzle expansion ratio)\n",
    "        \"\"\"\n",
    "        \n",
    "        self.fuel_name = fuel_name\n",
    "        self.ox_name = ox_name\n",
    "        self.mr = mr\n",
    "        self.pc = pc\n",
    "        self.nozzle_diam = nozzle_diam\n",
    "        self.eps = eps\n",
    "\n",
    "        self.R_universal = 8.314462 # Constante universal dos gases\n",
    "\n",
    "        self.C = CEA_Obj(oxName=self.ox_name, \n",
    "                         fuelName=self.fuel_name,\n",
    "                         isp_units='sec',\n",
    "                         cstar_units='m/s', \n",
    "                         pressure_units='bar', \n",
    "                         temperature_units='K', \n",
    "                         sonic_velocity_units='m/s', \n",
    "                         enthalpy_units='J/g', \n",
    "                         density_units='kg/m^3', \n",
    "                         specific_heat_units='J/kg-K', \n",
    "                         viscosity_units='millipoise', \n",
    "                         thermal_cond_units='mcal/cm-K-s')\n",
    "\n",
    "\n",
    "    def get_F_vac(self):\n",
    "        IspVac = self.C.get_Isp(Pc=self.pc, MR=self.mr, eps=self.eps)\n",
    "        ChamberDensity = self.C.get_Chamber_Density(Pc=self.pc, MR=self.mr, eps=self.eps)\n",
    "        SonicVel = self.C.get_Chamber_SonicVel(Pc=self.pc, MR=self.mr, eps=self.eps)\n",
    "        SonicVels = self.C.get_SonicVelocities(Pc=self.pc, MR=self.mr, eps=self.eps)\n",
    "        mach = self.C.get_MachNumber(Pc=self.pc, MR=self.mr, eps=self.eps)\n",
    "        gamma = self.C.get_exit_MolWt_gamma(Pc=self.pc, MR=self.mr, eps=self.eps)[1]\n",
    "        temperature_chamber, temperature_throat, temperature_exit = self.C.get_Temperatures(Pc=self.pc, MR=self.mr, eps=self.eps)\n",
    "        moles = self.C.get_SpeciesMoleFractions(Pc=self.pc, MR=self.mr, eps=self.eps)\n",
    "        avg_mol = 1/self.mr * molar_masses[self.fuel_name] + (1 - 1/self.mr) * molar_masses[self.ox_name]\n",
    "        pc_pe = self.C.get_PcOvPe(Pc=self.pc, MR=self.mr, eps=self.eps)\n",
    "\n",
    "        mass_flow = math.pi * self.eps * (self.nozzle_diam**2) * SonicVel * ChamberDensity\n",
    "        F_vac = IspVac * mass_flow\n",
    "\n",
    "        nozzle_throat_area = math.pi*(self.nozzle_diam/2 **2)\n",
    "        nozzle_exit_area = nozzle_throat_area * self.eps\n",
    "        pe = 1/pc_pe * self.pc\n",
    "\n",
    "        R_fuel = self.R_universal / avg_mol * 1000  # Dividindo por 1000 para converter g em kg\n",
    "\n",
    "\n",
    "        # Mach = 1 (choked)\n",
    "        # 10e5 para converter 'bar' em 'Pa'\n",
    "        mass_flow = (nozzle_throat_area * self.pc * (10e5) / (math.sqrt(temperature_chamber))) * \\\n",
    "                    math.sqrt(gamma/R_fuel) * \\\n",
    "                    ((gamma + 1)/2) ** \\\n",
    "                    (- (gamma + 1)/(2*(gamma - 1)))\n",
    "\n",
    "        # Mach =!= 1\n",
    "        # Pesquisar sobre choked \n",
    "        #mass_flow = (nozzle_throat_area * self.pc (10e5) / (math.sqrt(temperature_chamber))) * \\\n",
    "        #            math.sqrt(gamma/R_fuel) * mach * \\\n",
    "        #            (1 + ((gamma + 1)/2) * mach**2) ** \\\n",
    "        #            (- (gamma + 1)/(2*(gamma - 1)))\n",
    "\n",
    "\n",
    "        \n",
    "\n",
    "        print(mass_flow)\n",
    "        print(self.pc, pe)\n",
    "        print(temperature_chamber)\n",
    "\n",
    "        return F_vac\n",
    "\n",
    "\n",
    "\n",
    "engine = Engine(fuel_name=\"RP-1\", \n",
    "                ox_name=\"LOX\",\n",
    "                mr=2.9,\n",
    "                pc=97,\n",
    "                nozzle_diam=0.25,\n",
    "                eps=165)\n",
    "\n",
    "engine.get_F_vac()\n",
    "\n"
   ]
  },
  {
   "attachments": {},
   "cell_type": "markdown",
   "metadata": {},
   "source": [
    "# Referências bibliográficas\n",
    "\n",
    "- https://cearun.grc.nasa.gov/intro.html\n",
    "- https://www.grc.nasa.gov/www/k-12/airplane/mflchk.html\n",
    "- https://rocketcea.readthedocs.io/en/latest/functions.html\n",
    "- http://www.braeunig.us/space/index.htm\n",
    "- https://www.grc.nasa.gov/www/k-12/airplane/rktthsum.html\n",
    "\n",
    "\n"
   ]
  }
 ],
 "metadata": {
  "kernelspec": {
   "display_name": "Python 3.9.13 ('deeplearning')",
   "language": "python",
   "name": "python3"
  },
  "language_info": {
   "codemirror_mode": {
    "name": "ipython",
    "version": 3
   },
   "file_extension": ".py",
   "mimetype": "text/x-python",
   "name": "python",
   "nbconvert_exporter": "python",
   "pygments_lexer": "ipython3",
   "version": "3.9.13"
  },
  "orig_nbformat": 4,
  "vscode": {
   "interpreter": {
    "hash": "fed2aa9592218c4b4de25ecb09c6b292eb81f342cc059d9c96856c64676dbef4"
   }
  }
 },
 "nbformat": 4,
 "nbformat_minor": 2
}
