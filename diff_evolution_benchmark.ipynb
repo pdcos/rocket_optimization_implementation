{
 "cells": [
  {
   "cell_type": "code",
   "execution_count": 1,
   "metadata": {},
   "outputs": [],
   "source": [
    "import sys\n",
    "ga_path = '/Users/pdcos/Documents/Estudos/Mestrado/Tese/Algoritmos Evolutivos/evolutionary_algorithms/src'\n",
    "sys.path.append(ga_path)\n",
    "from models.pso import PSO\n",
    "from models.differential_evolution import DifferentialEvolutionAlgorithm\n",
    "from fitness_function import RocketFitness, bound_values, fitness_func\n",
    "import numpy as np\n",
    "import warnings\n",
    "warnings.filterwarnings('ignore')\n"
   ]
  },
  {
   "cell_type": "code",
   "execution_count": 2,
   "metadata": {},
   "outputs": [],
   "source": [
    "rocket_fitness = RocketFitness(bound_values)\n",
    "random_values = np.random.rand(10,10)\n",
    "fitness_func_class = rocket_fitness.calc_fitness\n"
   ]
  },
  {
   "cell_type": "code",
   "execution_count": 3,
   "metadata": {},
   "outputs": [
    {
     "data": {
      "text/plain": [
       "array([[1.e+06, 3.e+07],\n",
       "       [1.e+00, 9.e+00],\n",
       "       [5.e-02, 6.e-01],\n",
       "       [2.e+00, 2.e+02],\n",
       "       [1.e+06, 3.e+07],\n",
       "       [1.e+00, 9.e+00],\n",
       "       [5.e-02, 6.e-01],\n",
       "       [2.e+00, 2.e+02],\n",
       "       [1.e+00, 1.e+01],\n",
       "       [1.e+00, 1.e+01]])"
      ]
     },
     "execution_count": 3,
     "metadata": {},
     "output_type": "execute_result"
    }
   ],
   "source": [
    "np.array(bound_values)"
   ]
  },
  {
   "cell_type": "code",
   "execution_count": 4,
   "metadata": {},
   "outputs": [
    {
     "name": "stderr",
     "output_type": "stream",
     "text": [
      "  0%|          | 1/200 [00:05<17:55,  5.41s/it]"
     ]
    },
    {
     "name": "stdout",
     "output_type": "stream",
     "text": [
      "Epoch 0: Best: 0, Average: 0.0\n"
     ]
    },
    {
     "name": "stderr",
     "output_type": "stream",
     "text": [
      "  6%|▌         | 11/200 [00:55<15:42,  4.98s/it]"
     ]
    },
    {
     "name": "stdout",
     "output_type": "stream",
     "text": [
      "Epoch 10: Best: 0.12203909069618746, Average: 0.0016685733919676318\n"
     ]
    },
    {
     "name": "stderr",
     "output_type": "stream",
     "text": [
      " 10%|█         | 21/200 [01:45<14:51,  4.98s/it]"
     ]
    },
    {
     "name": "stdout",
     "output_type": "stream",
     "text": [
      "Epoch 20: Best: 0.15185440377964118, Average: 0.0030755294314483905\n"
     ]
    },
    {
     "name": "stderr",
     "output_type": "stream",
     "text": [
      " 16%|█▌        | 31/200 [02:36<14:11,  5.04s/it]"
     ]
    },
    {
     "name": "stdout",
     "output_type": "stream",
     "text": [
      "Epoch 30: Best: 0.15185440377964118, Average: 0.004815591091928323\n"
     ]
    },
    {
     "name": "stderr",
     "output_type": "stream",
     "text": [
      " 20%|██        | 41/200 [03:25<13:03,  4.93s/it]"
     ]
    },
    {
     "name": "stdout",
     "output_type": "stream",
     "text": [
      "Epoch 40: Best: 0.15185440377964118, Average: 0.005918342793234151\n"
     ]
    },
    {
     "name": "stderr",
     "output_type": "stream",
     "text": [
      " 26%|██▌       | 51/200 [04:14<12:07,  4.88s/it]"
     ]
    },
    {
     "name": "stdout",
     "output_type": "stream",
     "text": [
      "Epoch 50: Best: 0.16149303579788934, Average: 0.007887697983519295\n"
     ]
    },
    {
     "name": "stderr",
     "output_type": "stream",
     "text": [
      " 30%|███       | 61/200 [05:06<12:23,  5.35s/it]"
     ]
    },
    {
     "name": "stdout",
     "output_type": "stream",
     "text": [
      "Epoch 60: Best: 0.16149303579788934, Average: 0.009993478048927276\n"
     ]
    },
    {
     "name": "stderr",
     "output_type": "stream",
     "text": [
      " 36%|███▌      | 71/200 [06:09<15:30,  7.21s/it]"
     ]
    },
    {
     "name": "stdout",
     "output_type": "stream",
     "text": [
      "Epoch 70: Best: 0.16149303579788934, Average: 0.011171911621144314\n"
     ]
    },
    {
     "name": "stderr",
     "output_type": "stream",
     "text": [
      " 40%|████      | 81/200 [07:14<12:41,  6.40s/it]"
     ]
    },
    {
     "name": "stdout",
     "output_type": "stream",
     "text": [
      "Epoch 80: Best: 0.1690253328731684, Average: 0.012256746132192539\n"
     ]
    },
    {
     "name": "stderr",
     "output_type": "stream",
     "text": [
      " 46%|████▌     | 91/200 [08:10<11:22,  6.26s/it]"
     ]
    },
    {
     "name": "stdout",
     "output_type": "stream",
     "text": [
      "Epoch 90: Best: 0.17032980621694088, Average: 0.013103388313445149\n"
     ]
    },
    {
     "name": "stderr",
     "output_type": "stream",
     "text": [
      " 50%|█████     | 101/200 [09:16<11:09,  6.76s/it]"
     ]
    },
    {
     "name": "stdout",
     "output_type": "stream",
     "text": [
      "Epoch 100: Best: 0.1955274773421331, Average: 0.015425453431232835\n"
     ]
    },
    {
     "name": "stderr",
     "output_type": "stream",
     "text": [
      " 56%|█████▌    | 111/200 [10:26<10:23,  7.01s/it]"
     ]
    },
    {
     "name": "stdout",
     "output_type": "stream",
     "text": [
      "Epoch 110: Best: 0.20388291176089793, Average: 0.016463808465974766\n"
     ]
    },
    {
     "name": "stderr",
     "output_type": "stream",
     "text": [
      " 60%|██████    | 121/200 [11:34<09:40,  7.34s/it]"
     ]
    },
    {
     "name": "stdout",
     "output_type": "stream",
     "text": [
      "Epoch 120: Best: 0.2237648672164335, Average: 0.017538425682391758\n"
     ]
    },
    {
     "name": "stderr",
     "output_type": "stream",
     "text": [
      " 66%|██████▌   | 131/200 [12:55<09:21,  8.14s/it]"
     ]
    },
    {
     "name": "stdout",
     "output_type": "stream",
     "text": [
      "Epoch 130: Best: 0.23205819210143608, Average: 0.019149313693508373\n"
     ]
    },
    {
     "name": "stderr",
     "output_type": "stream",
     "text": [
      " 70%|███████   | 141/200 [14:16<08:01,  8.16s/it]"
     ]
    },
    {
     "name": "stdout",
     "output_type": "stream",
     "text": [
      "Epoch 140: Best: 0.23205819210143608, Average: 0.019816832867964665\n"
     ]
    },
    {
     "name": "stderr",
     "output_type": "stream",
     "text": [
      " 76%|███████▌  | 151/200 [15:36<06:26,  7.89s/it]"
     ]
    },
    {
     "name": "stdout",
     "output_type": "stream",
     "text": [
      "Epoch 150: Best: 0.2385579210020169, Average: 0.021957654302223614\n"
     ]
    },
    {
     "name": "stderr",
     "output_type": "stream",
     "text": [
      " 80%|████████  | 161/200 [17:00<05:41,  8.75s/it]"
     ]
    },
    {
     "name": "stdout",
     "output_type": "stream",
     "text": [
      "Epoch 160: Best: 0.2385579210020169, Average: 0.02321404737067157\n"
     ]
    },
    {
     "name": "stderr",
     "output_type": "stream",
     "text": [
      " 86%|████████▌ | 171/200 [18:34<04:34,  9.46s/it]"
     ]
    },
    {
     "name": "stdout",
     "output_type": "stream",
     "text": [
      "Epoch 170: Best: 0.2385579210020169, Average: 0.02507894163758873\n"
     ]
    },
    {
     "name": "stderr",
     "output_type": "stream",
     "text": [
      " 90%|█████████ | 181/200 [20:10<03:01,  9.58s/it]"
     ]
    },
    {
     "name": "stdout",
     "output_type": "stream",
     "text": [
      "Epoch 180: Best: 0.2398811265443733, Average: 0.026497382499109653\n"
     ]
    },
    {
     "name": "stderr",
     "output_type": "stream",
     "text": [
      " 96%|█████████▌| 191/200 [21:34<01:03,  7.05s/it]"
     ]
    },
    {
     "name": "stdout",
     "output_type": "stream",
     "text": [
      "Epoch 190: Best: 0.2398811265443733, Average: 0.028072381915142764\n"
     ]
    },
    {
     "name": "stderr",
     "output_type": "stream",
     "text": [
      "100%|██████████| 200/200 [22:20<00:00,  6.70s/it]"
     ]
    },
    {
     "name": "stdout",
     "output_type": "stream",
     "text": [
      "--- 1340.2435939311981 seconds ---\n"
     ]
    },
    {
     "name": "stderr",
     "output_type": "stream",
     "text": [
      "\n"
     ]
    }
   ],
   "source": [
    "de_alg = DifferentialEvolutionAlgorithm(\n",
    "                                        num_epochs=200,\n",
    "                                        pop_size=250,\n",
    "                                        chrom_length=10,\n",
    "                                        value_ranges=bound_values,\n",
    "                                        mutation_rate=0.9,\n",
    "                                        fitness_func=fitness_func_class,\n",
    "                                        verbose=True,\n",
    "                                        eval_every=10,\n",
    "                                        )\n",
    "best_results = de_alg.fit()\n"
   ]
  },
  {
   "cell_type": "code",
   "execution_count": 5,
   "metadata": {},
   "outputs": [
    {
     "data": {
      "image/png": "[encoded data removed]",
      "text/plain": [
       "<Figure size 432x288 with 1 Axes>"
      ]
     },
     "metadata": {
      "needs_background": "light"
     },
     "output_type": "display_data"
    }
   ],
   "source": [
    "de_alg.plot()"
   ]
  },
  {
   "cell_type": "code",
   "execution_count": 6,
   "metadata": {},
   "outputs": [
    {
     "name": "stdout",
     "output_type": "stream",
     "text": [
      "0.2398811265443733\n",
      "[0.09215684 0.25292055 0.5673415  0.94798028 0.71747644 0.29428057\n",
      " 0.28324118 0.14320088 0.10226016 0.14389969]\n"
     ]
    }
   ],
   "source": [
    "print(de_alg.best_solution_fitness)\n",
    "print(de_alg.best_solution)"
   ]
  },
  {
   "cell_type": "code",
   "execution_count": 7,
   "metadata": {},
   "outputs": [
    {
     "name": "stdout",
     "output_type": "stream",
     "text": [
      "[3.67254839e+06 3.02336443e+00 3.62037827e-01 1.89700095e+02\n",
      " 2.18068167e+07 3.35424457e+00 2.05782649e-01 3.03537745e+01\n",
      " 1.92034145e+00 2.29509723e+00]\n"
     ]
    }
   ],
   "source": [
    "min_mat = bound_values.T[0, :]\n",
    "max_mat = bound_values.T[1,:]\n",
    "best_sol_denorm = de_alg.best_solution * (max_mat - min_mat) + min_mat\n",
    "print(best_sol_denorm)"
   ]
  },
  {
   "cell_type": "code",
   "execution_count": 8,
   "metadata": {},
   "outputs": [
    {
     "name": "stdout",
     "output_type": "stream",
     "text": [
      "***** Payload Bay *****\n",
      "Cone Area: 37.653733282525664 [kg]\n",
      "Cylinder Area: 96.82388558363742 [kg]\n",
      "Frustrum Area: 39.80074602708383 [kg]\n",
      "Total Payload Fairing Mass: 1615.2314429924131 [kg]\n",
      "Electronic Mass: 415.8209319769572 [kg]\n",
      "Power Mass: 96.66589205668323 [kg]\n",
      "Total Payload Mass: 9627.718267026054 [kg]\n",
      "***** Upper Stage Engine *****\n",
      "Isp Vac (s): 386.91591208574863\n",
      "Isp Sea (s): (232.73596927233422, 'Separated (Psep=4.70323e+06, epsSep=23.5154)')\n",
      "Mass flow (kg/s): 216.22751143543914\n",
      "Thrust Vac (kN): 989.3516664576567\n",
      "Thrust Sea (kN): -963.4823366284564\n",
      "***** Upper Stage Structure *****\n",
      "Ox Tank Cylyndrical Height: 3.5776487825902947 [m]\n",
      "Fuel Tank Cylyndrical Height: 0.2620498997571568 [m]\n",
      "Ox Tank Volume: 71.11169480594373 [m3]\n",
      "Fuel Tank Volume: 32.6995313558283 [m3]\n",
      "Intertank Structure Mass: 905.0060553697516 [kg]\n",
      "Separation Explosives Mass: 8.376114892312666 [kg]\n",
      "Tank Fairing Mass: 618.3007779672329 [kg]\n",
      "Total Stage Height: 15.681765451734897 [m]\n",
      "Total Stage Dry Mass: 2990.5261656837292 [kg]\n",
      "Total Stage Surface Area: 168.96905323256186 [m2]\n",
      "***** First Stage Engine *****\n",
      "Isp Vac (s): 353.27454740872076\n",
      "Isp Sea (s): (329.700179080866, 'UnderExpanded (Pe=1.49275e+07)')\n",
      "Mass flow (kg/s): 435.6989178184978\n",
      "Thrust Vac (kN): 1696.4204431415192\n",
      "Thrust Sea (kN): 1595.4672428115869\n",
      "***** First Stage Structure *****\n",
      "Ox Tank Cylyndrical Height: 8.46703776412069 [m]\n",
      "Fuel Tank Cylyndrical Height: 2.240446773531674 [m]\n",
      "Ox Tank Volume: 190.75443701439406 [m3]\n",
      "Fuel Tank Volume: 87.7152585300807 [m3]\n",
      "Intertank Structure Mass: 1363.7147560360904 [kg]\n",
      "Separation Explosives Mass: 239.7774438726053 [kg]\n",
      "Tank Fairing Mass: 1159.9491355342998 [kg]\n",
      "Total Stage Height: 24.048574420728823 [m]\n",
      "Total Stage Dry Mass: 9285.994308786103 [kg]\n",
      "Total Stage Surface Area: 261.2429637230804 [m2]\n",
      "***** Rocket Characteristics *****\n",
      "Total Rocket Height: 54.6192287613526 [m]\n",
      "Propellant Mass - Upper Stage: 102743.7598005286 [kg]\n",
      "Propellant Mass - First Stage: 275606.25732483366 [kg]\n",
      "Total Mass - Upper Stage: 116608.21524655542 [kg]\n",
      "Total Mass - First Stage: 300264.9312179371 [kg]\n",
      "GLOW: 416873.14646449254 [kg]\n"
     ]
    },
    {
     "data": {
      "text/plain": [
       "0.2398811265443733"
      ]
     },
     "execution_count": 8,
     "metadata": {},
     "output_type": "execute_result"
    }
   ],
   "source": [
    "fitness_func(best_sol_denorm, verbose=True)"
   ]
  }
 ],
 "metadata": {
  "kernelspec": {
   "display_name": "deeplearning",
   "language": "python",
   "name": "python3"
  },
  "language_info": {
   "codemirror_mode": {
    "name": "ipython",
    "version": 3
   },
   "file_extension": ".py",
   "mimetype": "text/x-python",
   "name": "python",
   "nbconvert_exporter": "python",
   "pygments_lexer": "ipython3",
   "version": "3.9.13"
  },
  "orig_nbformat": 4
 },
 "nbformat": 4,
 "nbformat_minor": 2
}
