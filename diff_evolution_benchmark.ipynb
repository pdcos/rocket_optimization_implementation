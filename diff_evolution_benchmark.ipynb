{
 "cells": [
  {
   "cell_type": "code",
   "execution_count": 1,
   "metadata": {},
   "outputs": [],
   "source": [
    "import sys\n",
    "ga_path = '/Users/pdcos/Documents/Estudos/Mestrado/Tese/Algoritmos Evolutivos/evolutionary_algorithms/src'\n",
    "sys.path.append(ga_path)\n",
    "from models.pso import PSO\n",
    "from models.differential_evolution import DifferentialEvolutionAlgorithm\n",
    "from fitness_function import RocketFitness, bound_values, fitness_func\n",
    "import numpy as np\n",
    "import warnings\n",
    "warnings.filterwarnings('ignore')\n"
   ]
  },
  {
   "cell_type": "code",
   "execution_count": 2,
   "metadata": {},
   "outputs": [],
   "source": [
    "rocket_fitness = RocketFitness(bound_values, parallel=True)\n",
    "random_values = np.random.rand(10,10)\n",
    "fitness_func_class = rocket_fitness.calc_fitness\n"
   ]
  },
  {
   "cell_type": "code",
   "execution_count": 3,
   "metadata": {},
   "outputs": [
    {
     "data": {
      "text/plain": [
       "array([[1.e+06, 3.e+07],\n",
       "       [1.e+00, 9.e+00],\n",
       "       [5.e-02, 6.e-01],\n",
       "       [2.e+00, 2.e+02],\n",
       "       [1.e+06, 3.e+07],\n",
       "       [1.e+00, 9.e+00],\n",
       "       [5.e-02, 6.e-01],\n",
       "       [2.e+00, 2.e+02],\n",
       "       [1.e+00, 1.e+01],\n",
       "       [1.e+00, 1.e+01]])"
      ]
     },
     "execution_count": 3,
     "metadata": {},
     "output_type": "execute_result"
    }
   ],
   "source": [
    "np.array(bound_values)"
   ]
  },
  {
   "cell_type": "code",
   "execution_count": 4,
   "metadata": {},
   "outputs": [
    {
     "name": "stderr",
     "output_type": "stream",
     "text": [
      "  0%|          | 1/500 [00:10<1:31:26, 11.00s/it]"
     ]
    },
    {
     "name": "stdout",
     "output_type": "stream",
     "text": [
      "Epoch 0: Best: 0.5773435774168474, Average: 0.29121040866402087\n"
     ]
    },
    {
     "name": "stderr",
     "output_type": "stream",
     "text": [
      "  2%|▏         | 11/500 [01:50<1:21:55, 10.05s/it]"
     ]
    },
    {
     "name": "stdout",
     "output_type": "stream",
     "text": [
      "Epoch 10: Best: 0.5868457376503532, Average: 0.451324701477344\n"
     ]
    },
    {
     "name": "stderr",
     "output_type": "stream",
     "text": [
      "  4%|▍         | 21/500 [03:32<1:21:59, 10.27s/it]"
     ]
    },
    {
     "name": "stdout",
     "output_type": "stream",
     "text": [
      "Epoch 20: Best: 0.5868457376503532, Average: 0.48486765298276463\n"
     ]
    },
    {
     "name": "stderr",
     "output_type": "stream",
     "text": [
      "  6%|▌         | 31/500 [05:14<1:19:13, 10.13s/it]"
     ]
    },
    {
     "name": "stdout",
     "output_type": "stream",
     "text": [
      "Epoch 30: Best: 0.5890190887502125, Average: 0.49515685310300206\n"
     ]
    },
    {
     "name": "stderr",
     "output_type": "stream",
     "text": [
      "  8%|▊         | 41/500 [07:03<1:23:51, 10.96s/it]"
     ]
    },
    {
     "name": "stdout",
     "output_type": "stream",
     "text": [
      "Epoch 40: Best: 0.5893213082359653, Average: 0.4998318483235614\n"
     ]
    },
    {
     "name": "stderr",
     "output_type": "stream",
     "text": [
      " 10%|█         | 51/500 [08:52<1:20:48, 10.80s/it]"
     ]
    },
    {
     "name": "stdout",
     "output_type": "stream",
     "text": [
      "Epoch 50: Best: 0.5952247333772613, Average: 0.5022205643869992\n"
     ]
    },
    {
     "name": "stderr",
     "output_type": "stream",
     "text": [
      " 12%|█▏        | 61/500 [10:41<1:24:22, 11.53s/it]"
     ]
    },
    {
     "name": "stdout",
     "output_type": "stream",
     "text": [
      "Epoch 60: Best: 0.6166698199784112, Average: 0.503537129168036\n"
     ]
    },
    {
     "name": "stderr",
     "output_type": "stream",
     "text": [
      " 14%|█▍        | 71/500 [12:34<1:22:04, 11.48s/it]"
     ]
    },
    {
     "name": "stdout",
     "output_type": "stream",
     "text": [
      "Epoch 70: Best: 0.6166698199784112, Average: 0.5050067687397577\n"
     ]
    },
    {
     "name": "stderr",
     "output_type": "stream",
     "text": [
      " 16%|█▌        | 81/500 [14:27<1:18:32, 11.25s/it]"
     ]
    },
    {
     "name": "stdout",
     "output_type": "stream",
     "text": [
      "Epoch 80: Best: 0.6177071962534633, Average: 0.5062888207600863\n"
     ]
    },
    {
     "name": "stderr",
     "output_type": "stream",
     "text": [
      " 18%|█▊        | 91/500 [28:42<13:39:05, 120.16s/it]"
     ]
    },
    {
     "name": "stdout",
     "output_type": "stream",
     "text": [
      "Epoch 90: Best: 0.6177071962534633, Average: 0.5072093451629054\n"
     ]
    },
    {
     "name": "stderr",
     "output_type": "stream",
     "text": [
      " 20%|██        | 101/500 [30:09<1:19:27, 11.95s/it] "
     ]
    },
    {
     "name": "stdout",
     "output_type": "stream",
     "text": [
      "Epoch 100: Best: 0.6177071962534633, Average: 0.5079284636865747\n"
     ]
    },
    {
     "name": "stderr",
     "output_type": "stream",
     "text": [
      " 22%|██▏       | 111/500 [41:18<4:34:04, 42.27s/it]  "
     ]
    },
    {
     "name": "stdout",
     "output_type": "stream",
     "text": [
      "Epoch 110: Best: 0.6177071962534633, Average: 0.5086971068945593\n"
     ]
    },
    {
     "name": "stderr",
     "output_type": "stream",
     "text": [
      " 24%|██▍       | 121/500 [1:00:20<4:21:52, 41.46s/it]"
     ]
    },
    {
     "name": "stdout",
     "output_type": "stream",
     "text": [
      "Epoch 120: Best: 0.6177071962534633, Average: 0.5094367938030644\n"
     ]
    },
    {
     "name": "stderr",
     "output_type": "stream",
     "text": [
      " 26%|██▌       | 131/500 [1:02:05<1:04:58, 10.56s/it]"
     ]
    },
    {
     "name": "stdout",
     "output_type": "stream",
     "text": [
      "Epoch 130: Best: 0.6177071962534633, Average: 0.5099154781348688\n"
     ]
    },
    {
     "name": "stderr",
     "output_type": "stream",
     "text": [
      " 28%|██▊       | 141/500 [1:03:35<53:58,  9.02s/it]  "
     ]
    },
    {
     "name": "stdout",
     "output_type": "stream",
     "text": [
      "Epoch 140: Best: 0.6177071962534633, Average: 0.5104585803727486\n"
     ]
    },
    {
     "name": "stderr",
     "output_type": "stream",
     "text": [
      " 30%|███       | 151/500 [1:08:29<1:21:42, 14.05s/it]"
     ]
    },
    {
     "name": "stdout",
     "output_type": "stream",
     "text": [
      "Epoch 150: Best: 0.6182948560349447, Average: 0.511058524540214\n"
     ]
    },
    {
     "name": "stderr",
     "output_type": "stream",
     "text": [
      " 32%|███▏      | 161/500 [1:10:02<54:10,  9.59s/it]  "
     ]
    },
    {
     "name": "stdout",
     "output_type": "stream",
     "text": [
      "Epoch 160: Best: 0.6239234748777905, Average: 0.5115067942752012\n"
     ]
    },
    {
     "name": "stderr",
     "output_type": "stream",
     "text": [
      " 34%|███▍      | 171/500 [1:11:40<53:10,  9.70s/it]"
     ]
    },
    {
     "name": "stdout",
     "output_type": "stream",
     "text": [
      "Epoch 170: Best: 0.626300411171022, Average: 0.5122287416075497\n"
     ]
    },
    {
     "name": "stderr",
     "output_type": "stream",
     "text": [
      " 36%|███▌      | 181/500 [1:13:16<50:51,  9.56s/it]"
     ]
    },
    {
     "name": "stdout",
     "output_type": "stream",
     "text": [
      "Epoch 180: Best: 0.626300411171022, Average: 0.5128446446007409\n"
     ]
    },
    {
     "name": "stderr",
     "output_type": "stream",
     "text": [
      " 38%|███▊      | 191/500 [1:14:53<50:13,  9.75s/it]"
     ]
    },
    {
     "name": "stdout",
     "output_type": "stream",
     "text": [
      "Epoch 190: Best: 0.626300411171022, Average: 0.5133822014949103\n"
     ]
    },
    {
     "name": "stderr",
     "output_type": "stream",
     "text": [
      " 40%|████      | 201/500 [1:16:32<48:57,  9.82s/it]"
     ]
    },
    {
     "name": "stdout",
     "output_type": "stream",
     "text": [
      "Epoch 200: Best: 0.6273618084051397, Average: 0.5139044363203574\n"
     ]
    },
    {
     "name": "stderr",
     "output_type": "stream",
     "text": [
      " 42%|████▏     | 211/500 [1:18:09<46:51,  9.73s/it]"
     ]
    },
    {
     "name": "stdout",
     "output_type": "stream",
     "text": [
      "Epoch 210: Best: 0.6273618084051397, Average: 0.5143628246326057\n"
     ]
    },
    {
     "name": "stderr",
     "output_type": "stream",
     "text": [
      " 44%|████▍     | 221/500 [1:19:47<45:19,  9.75s/it]"
     ]
    },
    {
     "name": "stdout",
     "output_type": "stream",
     "text": [
      "Epoch 220: Best: 0.6273618084051397, Average: 0.5149152844583719\n"
     ]
    },
    {
     "name": "stderr",
     "output_type": "stream",
     "text": [
      " 46%|████▌     | 231/500 [1:21:26<44:17,  9.88s/it]"
     ]
    },
    {
     "name": "stdout",
     "output_type": "stream",
     "text": [
      "Epoch 230: Best: 0.6273618084051397, Average: 0.5153871544309825\n"
     ]
    },
    {
     "name": "stderr",
     "output_type": "stream",
     "text": [
      " 48%|████▊     | 241/500 [1:23:05<42:52,  9.93s/it]"
     ]
    },
    {
     "name": "stdout",
     "output_type": "stream",
     "text": [
      "Epoch 240: Best: 0.6295139451591123, Average: 0.5158066332900396\n"
     ]
    },
    {
     "name": "stderr",
     "output_type": "stream",
     "text": [
      " 50%|█████     | 251/500 [1:24:48<41:23,  9.97s/it]"
     ]
    },
    {
     "name": "stdout",
     "output_type": "stream",
     "text": [
      "Epoch 250: Best: 0.6295139451591123, Average: 0.5160852565720461\n"
     ]
    },
    {
     "name": "stderr",
     "output_type": "stream",
     "text": [
      " 52%|█████▏    | 261/500 [1:26:27<39:36,  9.94s/it]"
     ]
    },
    {
     "name": "stdout",
     "output_type": "stream",
     "text": [
      "Epoch 260: Best: 0.6295139451591123, Average: 0.5164827674767193\n"
     ]
    },
    {
     "name": "stderr",
     "output_type": "stream",
     "text": [
      " 54%|█████▍    | 271/500 [1:28:08<38:12, 10.01s/it]"
     ]
    },
    {
     "name": "stdout",
     "output_type": "stream",
     "text": [
      "Epoch 270: Best: 0.6295139451591123, Average: 0.5168242019447367\n"
     ]
    },
    {
     "name": "stderr",
     "output_type": "stream",
     "text": [
      " 56%|█████▌    | 281/500 [1:29:54<39:37, 10.86s/it]"
     ]
    },
    {
     "name": "stdout",
     "output_type": "stream",
     "text": [
      "Epoch 280: Best: 0.6295139451591123, Average: 0.5173799520967013\n"
     ]
    },
    {
     "name": "stderr",
     "output_type": "stream",
     "text": [
      " 58%|█████▊    | 291/500 [1:31:38<35:31, 10.20s/it]"
     ]
    },
    {
     "name": "stdout",
     "output_type": "stream",
     "text": [
      "Epoch 290: Best: 0.6295139451591123, Average: 0.5177293122685521\n"
     ]
    },
    {
     "name": "stderr",
     "output_type": "stream",
     "text": [
      " 60%|██████    | 301/500 [1:33:18<33:06,  9.98s/it]"
     ]
    },
    {
     "name": "stdout",
     "output_type": "stream",
     "text": [
      "Epoch 300: Best: 0.6295139451591123, Average: 0.5181866647390209\n"
     ]
    },
    {
     "name": "stderr",
     "output_type": "stream",
     "text": [
      " 62%|██████▏   | 311/500 [1:34:59<31:56, 10.14s/it]"
     ]
    },
    {
     "name": "stdout",
     "output_type": "stream",
     "text": [
      "Epoch 310: Best: 0.6295139451591123, Average: 0.5184473935238443\n"
     ]
    },
    {
     "name": "stderr",
     "output_type": "stream",
     "text": [
      " 64%|██████▍   | 321/500 [1:36:42<30:37, 10.26s/it]"
     ]
    },
    {
     "name": "stdout",
     "output_type": "stream",
     "text": [
      "Epoch 320: Best: 0.6295139451591123, Average: 0.5187472679021718\n"
     ]
    },
    {
     "name": "stderr",
     "output_type": "stream",
     "text": [
      " 66%|██████▌   | 331/500 [1:38:27<29:43, 10.55s/it]"
     ]
    },
    {
     "name": "stdout",
     "output_type": "stream",
     "text": [
      "Epoch 330: Best: 0.6295139451591123, Average: 0.5190737746588083\n"
     ]
    },
    {
     "name": "stderr",
     "output_type": "stream",
     "text": [
      " 68%|██████▊   | 341/500 [1:40:14<28:16, 10.67s/it]"
     ]
    },
    {
     "name": "stdout",
     "output_type": "stream",
     "text": [
      "Epoch 340: Best: 0.6295139451591123, Average: 0.5192668978408742\n"
     ]
    },
    {
     "name": "stderr",
     "output_type": "stream",
     "text": [
      " 70%|███████   | 351/500 [1:42:12<29:32, 11.90s/it]"
     ]
    },
    {
     "name": "stdout",
     "output_type": "stream",
     "text": [
      "Epoch 350: Best: 0.6295139451591123, Average: 0.5195159910105023\n"
     ]
    },
    {
     "name": "stderr",
     "output_type": "stream",
     "text": [
      " 72%|███████▏  | 361/500 [1:44:09<26:51, 11.59s/it]"
     ]
    },
    {
     "name": "stdout",
     "output_type": "stream",
     "text": [
      "Epoch 360: Best: 0.6295139451591123, Average: 0.5198449834672172\n"
     ]
    },
    {
     "name": "stderr",
     "output_type": "stream",
     "text": [
      " 74%|███████▍  | 371/500 [1:46:05<25:07, 11.69s/it]"
     ]
    },
    {
     "name": "stdout",
     "output_type": "stream",
     "text": [
      "Epoch 370: Best: 0.6295139451591123, Average: 0.5202203959235634\n"
     ]
    },
    {
     "name": "stderr",
     "output_type": "stream",
     "text": [
      " 76%|███████▌  | 381/500 [1:53:44<41:15, 20.81s/it]  "
     ]
    },
    {
     "name": "stdout",
     "output_type": "stream",
     "text": [
      "Epoch 380: Best: 0.6313443362343326, Average: 0.5205595145627668\n"
     ]
    },
    {
     "name": "stderr",
     "output_type": "stream",
     "text": [
      " 78%|███████▊  | 391/500 [1:55:17<17:54,  9.86s/it]"
     ]
    },
    {
     "name": "stdout",
     "output_type": "stream",
     "text": [
      "Epoch 390: Best: 0.6313443362343326, Average: 0.5207863490771626\n"
     ]
    },
    {
     "name": "stderr",
     "output_type": "stream",
     "text": [
      " 80%|████████  | 401/500 [1:56:54<16:12,  9.82s/it]"
     ]
    },
    {
     "name": "stdout",
     "output_type": "stream",
     "text": [
      "Epoch 400: Best: 0.6313443362343326, Average: 0.5210154707837534\n"
     ]
    },
    {
     "name": "stderr",
     "output_type": "stream",
     "text": [
      " 82%|████████▏ | 411/500 [1:58:36<15:44, 10.61s/it]"
     ]
    },
    {
     "name": "stdout",
     "output_type": "stream",
     "text": [
      "Epoch 410: Best: 0.6322216664534543, Average: 0.5212214693833387\n"
     ]
    },
    {
     "name": "stderr",
     "output_type": "stream",
     "text": [
      " 84%|████████▍ | 421/500 [2:00:21<13:54, 10.56s/it]"
     ]
    },
    {
     "name": "stdout",
     "output_type": "stream",
     "text": [
      "Epoch 420: Best: 0.6322216664534543, Average: 0.5215952836986468\n"
     ]
    },
    {
     "name": "stderr",
     "output_type": "stream",
     "text": [
      " 86%|████████▌ | 431/500 [2:02:03<11:41, 10.17s/it]"
     ]
    },
    {
     "name": "stdout",
     "output_type": "stream",
     "text": [
      "Epoch 430: Best: 0.6322216664534543, Average: 0.5221007238092343\n"
     ]
    },
    {
     "name": "stderr",
     "output_type": "stream",
     "text": [
      " 88%|████████▊ | 441/500 [2:03:42<09:43,  9.89s/it]"
     ]
    },
    {
     "name": "stdout",
     "output_type": "stream",
     "text": [
      "Epoch 440: Best: 0.6326366895195621, Average: 0.5223776252392688\n"
     ]
    },
    {
     "name": "stderr",
     "output_type": "stream",
     "text": [
      " 90%|█████████ | 451/500 [2:05:22<08:09,  9.99s/it]"
     ]
    },
    {
     "name": "stdout",
     "output_type": "stream",
     "text": [
      "Epoch 450: Best: 0.6326366895195621, Average: 0.5227123263406771\n"
     ]
    },
    {
     "name": "stderr",
     "output_type": "stream",
     "text": [
      " 92%|█████████▏| 461/500 [2:07:11<06:58, 10.74s/it]"
     ]
    },
    {
     "name": "stdout",
     "output_type": "stream",
     "text": [
      "Epoch 460: Best: 0.6326366895195621, Average: 0.5229961398031482\n"
     ]
    },
    {
     "name": "stderr",
     "output_type": "stream",
     "text": [
      " 94%|█████████▍| 471/500 [2:09:00<05:16, 10.92s/it]"
     ]
    },
    {
     "name": "stdout",
     "output_type": "stream",
     "text": [
      "Epoch 470: Best: 0.6326366895195621, Average: 0.5234102922303543\n"
     ]
    },
    {
     "name": "stderr",
     "output_type": "stream",
     "text": [
      " 96%|█████████▌| 481/500 [2:10:53<03:48, 12.01s/it]"
     ]
    },
    {
     "name": "stdout",
     "output_type": "stream",
     "text": [
      "Epoch 480: Best: 0.6326366895195621, Average: 0.5236663701172501\n"
     ]
    },
    {
     "name": "stderr",
     "output_type": "stream",
     "text": [
      " 98%|█████████▊| 491/500 [2:12:55<01:51, 12.42s/it]"
     ]
    },
    {
     "name": "stdout",
     "output_type": "stream",
     "text": [
      "Epoch 490: Best: 0.6326366895195621, Average: 0.5238364586733476\n"
     ]
    },
    {
     "name": "stderr",
     "output_type": "stream",
     "text": [
      "100%|██████████| 500/500 [2:14:43<00:00, 16.17s/it]"
     ]
    },
    {
     "name": "stdout",
     "output_type": "stream",
     "text": [
      "--- 8083.9551701545715 seconds ---\n"
     ]
    },
    {
     "name": "stderr",
     "output_type": "stream",
     "text": [
      "\n"
     ]
    }
   ],
   "source": [
    "de_alg = DifferentialEvolutionAlgorithm(\n",
    "                                        num_epochs=500,\n",
    "                                        pop_size=1000,\n",
    "                                        chrom_length=10,\n",
    "                                        value_ranges=bound_values,\n",
    "                                        mutation_rate=0.8,\n",
    "                                        fitness_func=fitness_func_class,\n",
    "                                        verbose=True,\n",
    "                                        eval_every=10,\n",
    "                                        )\n",
    "best_results = de_alg.fit()\n"
   ]
  },
  {
   "cell_type": "code",
   "execution_count": 5,
   "metadata": {},
   "outputs": [
    {
     "data": {
      "image/png": "[encoded data removed]",
      "text/plain": [
       "<Figure size 432x288 with 1 Axes>"
      ]
     },
     "metadata": {
      "needs_background": "light"
     },
     "output_type": "display_data"
    }
   ],
   "source": [
    "de_alg.plot()"
   ]
  },
  {
   "cell_type": "code",
   "execution_count": 9,
   "metadata": {},
   "outputs": [
    {
     "name": "stdout",
     "output_type": "stream",
     "text": [
      "0.6326366895195621\n",
      "[0.18359744 0.28743917 0.38368146 1.         1.         0.31828994\n",
      " 0.115166   0.20467449 0.08031001 0.10013723]\n"
     ]
    }
   ],
   "source": [
    "print(de_alg.best_solution_fitness)\n",
    "print(de_alg.best_solution)"
   ]
  },
  {
   "cell_type": "code",
   "execution_count": 10,
   "metadata": {},
   "outputs": [
    {
     "name": "stdout",
     "output_type": "stream",
     "text": [
      "[6.32432564e+06 3.29951339e+00 2.61024803e-01 2.00000000e+02\n",
      " 3.00000000e+07 3.54631955e+00 1.13341298e-01 4.25255494e+01\n",
      " 1.72279008e+00 1.90123511e+00]\n"
     ]
    }
   ],
   "source": [
    "min_mat = bound_values.T[0, :]\n",
    "max_mat = bound_values.T[1,:]\n",
    "best_sol_denorm = de_alg.best_solution * (max_mat - min_mat) + min_mat\n",
    "print(best_sol_denorm)"
   ]
  },
  {
   "cell_type": "code",
   "execution_count": 11,
   "metadata": {},
   "outputs": [
    {
     "name": "stdout",
     "output_type": "stream",
     "text": [
      "***** Payload Bay *****\n",
      "Cone Area: 37.653733282525664 [kg]\n",
      "Cylinder Area: 96.82388558363742 [kg]\n",
      "Frustrum Area: 38.33354534314446 [kg]\n",
      "Total Payload Fairing Mass: 1600.7583598192862 [kg]\n",
      "Electronic Mass: 412.4819555062088 [kg]\n",
      "Power Mass: 95.88968019652836 [kg]\n",
      "Total Payload Mass: 9609.129995522024 [kg]\n",
      "***** Upper Stage Engine *****\n",
      "Isp Vac (s): 393.1283695508196\n",
      "Isp Sea (s): (237.63204566239065, 'Separated (Psep=4.21878e+06, epsSep=47.792)')\n",
      "Mass flow (kg/s): 190.641746278801\n",
      "Thrust Vac (kN): 927.4561262085924\n",
      "Thrust Sea (kN): -142.78942629371318\n",
      "***** Upper Stage Structure *****\n",
      "Ox Tank Cylyndrical Height: 5.219352381730754 [m]\n",
      "Fuel Tank Cylyndrical Height: 0.8699703451243344 [m]\n",
      "Ox Tank Volume: 70.08495772276736 [m3]\n",
      "Fuel Tank Volume: 29.530168163288153 [m3]\n",
      "Intertank Structure Mass: 705.042779175033 [kg]\n",
      "Separation Explosives Mass: 8.35994309610416 [kg]\n",
      "Tank Fairing Mass: 711.0354196519189 [kg]\n",
      "Total Stage Height: 17.141184014731216 [m]\n",
      "Total Stage Dry Mass: 3097.2024343986373 [kg]\n",
      "Total Stage Surface Area: 160.05067527269853 [m2]\n",
      "***** First Stage Engine *****\n",
      "Isp Vac (s): 357.8232750361893\n",
      "Isp Sea (s): (333.99607875738195, 'OverExpanded (Pe=1.32288e+07)')\n",
      "Mass flow (kg/s): 183.29755812721916\n",
      "Thrust Vac (kN): 736.8732135223901\n",
      "Thrust Sea (kN): 693.9673960125541\n",
      "***** First Stage Structure *****\n",
      "Ox Tank Cylyndrical Height: 12.866190711430866 [m]\n",
      "Fuel Tank Cylyndrical Height: 3.95427489650564 [m]\n",
      "Ox Tank Volume: 174.8941419632868 [m3]\n",
      "Fuel Tank Volume: 73.69132536798396 [m3]\n",
      "Intertank Structure Mass: 884.429941708108 [kg]\n",
      "Separation Explosives Mass: 215.26800144448342 [kg]\n",
      "Tank Fairing Mass: 1473.7514895028673 [kg]\n",
      "Total Stage Height: 28.586107029599713 [m]\n",
      "Total Stage Dry Mass: 7351.017523603661 [kg]\n",
      "Total Stage Surface Area: 248.21432212357894 [m2]\n",
      "***** Rocket Characteristics *****\n",
      "Total Rocket Height: 60.61617993321981 [m]\n",
      "Propellant Mass - Upper Stage: 99153.89495033435 [kg]\n",
      "Propellant Mass - First Stage: 247434.48441894646 [kg]\n",
      "Total Mass - Upper Stage: 113054.53903492175 [kg]\n",
      "Total Mass - First Stage: 263915.062521861 [kg]\n",
      "GLOW: 376969.6015567827 [kg]\n"
     ]
    },
    {
     "data": {
      "text/plain": [
       "0.26527337903912407"
      ]
     },
     "execution_count": 11,
     "metadata": {},
     "output_type": "execute_result"
    }
   ],
   "source": [
    "fitness_func(best_sol_denorm, verbose=True)"
   ]
  },
  {
   "cell_type": "code",
   "execution_count": null,
   "metadata": {},
   "outputs": [],
   "source": []
  }
 ],
 "metadata": {
  "kernelspec": {
   "display_name": "deeplearning",
   "language": "python",
   "name": "python3"
  },
  "language_info": {
   "codemirror_mode": {
    "name": "ipython",
    "version": 3
   },
   "file_extension": ".py",
   "mimetype": "text/x-python",
   "name": "python",
   "nbconvert_exporter": "python",
   "pygments_lexer": "ipython3",
   "version": "3.9.13"
  },
  "orig_nbformat": 4
 },
 "nbformat": 4,
 "nbformat_minor": 2
}
