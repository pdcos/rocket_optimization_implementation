{
 "cells": [
  {
   "cell_type": "code",
   "execution_count": 1,
   "metadata": {},
   "outputs": [],
   "source": [
    "import sys\n",
    "ga_path = '/Users/pdcos/Documents/Estudos/Mestrado/Tese/Algoritmos Evolutivos/evolutionary_algorithms/src'\n",
    "sys.path.append(ga_path)\n",
    "from models.pso import PSO\n",
    "from models.differential_evolution import DifferentialEvolutionAlgorithm\n",
    "from fitness_function import RocketFitness, bound_values, fitness_func\n",
    "import numpy as np\n",
    "import warnings\n",
    "warnings.filterwarnings('ignore')\n"
   ]
  },
  {
   "cell_type": "code",
   "execution_count": 2,
   "metadata": {},
   "outputs": [],
   "source": [
    "rocket_fitness = RocketFitness(bound_values)\n",
    "random_values = np.random.rand(10,10)\n",
    "fitness_func_class = rocket_fitness.calc_fitness\n"
   ]
  },
  {
   "cell_type": "code",
   "execution_count": 3,
   "metadata": {},
   "outputs": [
    {
     "name": "stderr",
     "output_type": "stream",
     "text": [
      "  0%|          | 1/500 [00:04<35:07,  4.22s/it]"
     ]
    },
    {
     "name": "stdout",
     "output_type": "stream",
     "text": [
      "Epoch 0: Best: 0.5698882140733166, Average: 0.23985403594469068\n"
     ]
    },
    {
     "name": "stderr",
     "output_type": "stream",
     "text": [
      "  2%|▏         | 11/500 [00:50<38:49,  4.76s/it]"
     ]
    },
    {
     "name": "stdout",
     "output_type": "stream",
     "text": [
      "Epoch 10: Best: 0.6006889956503878, Average: 0.5014627540026118\n"
     ]
    },
    {
     "name": "stderr",
     "output_type": "stream",
     "text": [
      "  4%|▍         | 21/500 [01:38<38:27,  4.82s/it]"
     ]
    },
    {
     "name": "stdout",
     "output_type": "stream",
     "text": [
      "Epoch 20: Best: 0.6007999714933219, Average: 0.529532592203552\n"
     ]
    },
    {
     "name": "stderr",
     "output_type": "stream",
     "text": [
      "  6%|▌         | 31/500 [02:28<38:48,  4.96s/it]"
     ]
    },
    {
     "name": "stdout",
     "output_type": "stream",
     "text": [
      "Epoch 30: Best: 0.6018476096902409, Average: 0.5297255555587685\n"
     ]
    },
    {
     "name": "stderr",
     "output_type": "stream",
     "text": [
      "  8%|▊         | 41/500 [03:18<38:12,  4.99s/it]"
     ]
    },
    {
     "name": "stdout",
     "output_type": "stream",
     "text": [
      "Epoch 40: Best: 0.6018640220072201, Average: 0.5201641722715022\n"
     ]
    },
    {
     "name": "stderr",
     "output_type": "stream",
     "text": [
      " 10%|█         | 51/500 [04:08<37:13,  4.97s/it]"
     ]
    },
    {
     "name": "stdout",
     "output_type": "stream",
     "text": [
      "Epoch 50: Best: 0.6018640224249836, Average: 0.5373652233379785\n"
     ]
    },
    {
     "name": "stderr",
     "output_type": "stream",
     "text": [
      " 12%|█▏        | 61/500 [04:57<35:59,  4.92s/it]"
     ]
    },
    {
     "name": "stdout",
     "output_type": "stream",
     "text": [
      "Epoch 60: Best: 0.601864022425383, Average: 0.5349086591638665\n"
     ]
    },
    {
     "name": "stderr",
     "output_type": "stream",
     "text": [
      " 14%|█▍        | 71/500 [05:46<35:09,  4.92s/it]"
     ]
    },
    {
     "name": "stdout",
     "output_type": "stream",
     "text": [
      "Epoch 70: Best: 0.6018640224253989, Average: 0.532381545104462\n"
     ]
    },
    {
     "name": "stderr",
     "output_type": "stream",
     "text": [
      " 16%|█▌        | 81/500 [06:36<34:37,  4.96s/it]"
     ]
    },
    {
     "name": "stdout",
     "output_type": "stream",
     "text": [
      "Epoch 80: Best: 0.6018640224616372, Average: 0.5209269653903018\n"
     ]
    },
    {
     "name": "stderr",
     "output_type": "stream",
     "text": [
      " 18%|█▊        | 91/500 [07:28<36:18,  5.33s/it]"
     ]
    },
    {
     "name": "stdout",
     "output_type": "stream",
     "text": [
      "Epoch 90: Best: 0.6018640224616635, Average: 0.5297669989135342\n"
     ]
    },
    {
     "name": "stderr",
     "output_type": "stream",
     "text": [
      " 20%|██        | 101/500 [08:20<35:05,  5.28s/it]"
     ]
    },
    {
     "name": "stdout",
     "output_type": "stream",
     "text": [
      "Epoch 100: Best: 0.6018640224616635, Average: 0.5359071528567502\n"
     ]
    },
    {
     "name": "stderr",
     "output_type": "stream",
     "text": [
      " 22%|██▏       | 111/500 [09:09<31:56,  4.93s/it]"
     ]
    },
    {
     "name": "stdout",
     "output_type": "stream",
     "text": [
      "Epoch 110: Best: 0.6018640224616222, Average: 0.5117241499419051\n"
     ]
    },
    {
     "name": "stderr",
     "output_type": "stream",
     "text": [
      " 24%|██▍       | 121/500 [10:08<36:30,  5.78s/it]"
     ]
    },
    {
     "name": "stdout",
     "output_type": "stream",
     "text": [
      "Epoch 120: Best: 0.6018640224616791, Average: 0.5366002657926883\n"
     ]
    },
    {
     "name": "stderr",
     "output_type": "stream",
     "text": [
      " 25%|██▍       | 123/500 [10:22<31:47,  5.06s/it]\n"
     ]
    },
    {
     "ename": "KeyboardInterrupt",
     "evalue": "",
     "output_type": "error",
     "traceback": [
      "\u001b[0;31m---------------------------------------------------------------------------\u001b[0m",
      "\u001b[0;31mKeyboardInterrupt\u001b[0m                         Traceback (most recent call last)",
      "\u001b[1;32m/Users/pdcos/Documents/Estudos/Mestrado/Tese/Implementação da Tese do Jentzsch/rocket_optimization_implementation/pso_benchmark.ipynb Célula 3\u001b[0m in \u001b[0;36m1\n\u001b[1;32m      <a href='vscode-notebook-cell:/Users/pdcos/Documents/Estudos/Mestrado/Tese/Implementac%CC%A7a%CC%83o%20da%20Tese%20do%20Jentzsch/rocket_optimization_implementation/pso_benchmark.ipynb#W2sZmlsZQ%3D%3D?line=0'>1</a>\u001b[0m pso_alg \u001b[39m=\u001b[39m PSO(\n\u001b[1;32m      <a href='vscode-notebook-cell:/Users/pdcos/Documents/Estudos/Mestrado/Tese/Implementac%CC%A7a%CC%83o%20da%20Tese%20do%20Jentzsch/rocket_optimization_implementation/pso_benchmark.ipynb#W2sZmlsZQ%3D%3D?line=1'>2</a>\u001b[0m     num_epochs\u001b[39m=\u001b[39m\u001b[39m500\u001b[39m,\n\u001b[1;32m      <a href='vscode-notebook-cell:/Users/pdcos/Documents/Estudos/Mestrado/Tese/Implementac%CC%A7a%CC%83o%20da%20Tese%20do%20Jentzsch/rocket_optimization_implementation/pso_benchmark.ipynb#W2sZmlsZQ%3D%3D?line=2'>3</a>\u001b[0m     pop_size\u001b[39m=\u001b[39m\u001b[39m1000\u001b[39m,\n\u001b[0;32m   (...)\u001b[0m\n\u001b[1;32m     <a href='vscode-notebook-cell:/Users/pdcos/Documents/Estudos/Mestrado/Tese/Implementac%CC%A7a%CC%83o%20da%20Tese%20do%20Jentzsch/rocket_optimization_implementation/pso_benchmark.ipynb#W2sZmlsZQ%3D%3D?line=14'>15</a>\u001b[0m \n\u001b[1;32m     <a href='vscode-notebook-cell:/Users/pdcos/Documents/Estudos/Mestrado/Tese/Implementac%CC%A7a%CC%83o%20da%20Tese%20do%20Jentzsch/rocket_optimization_implementation/pso_benchmark.ipynb#W2sZmlsZQ%3D%3D?line=15'>16</a>\u001b[0m     )\n\u001b[0;32m---> <a href='vscode-notebook-cell:/Users/pdcos/Documents/Estudos/Mestrado/Tese/Implementac%CC%A7a%CC%83o%20da%20Tese%20do%20Jentzsch/rocket_optimization_implementation/pso_benchmark.ipynb#W2sZmlsZQ%3D%3D?line=17'>18</a>\u001b[0m best_solutions \u001b[39m=\u001b[39m pso_alg\u001b[39m.\u001b[39;49mfit()\n\u001b[1;32m     <a href='vscode-notebook-cell:/Users/pdcos/Documents/Estudos/Mestrado/Tese/Implementac%CC%A7a%CC%83o%20da%20Tese%20do%20Jentzsch/rocket_optimization_implementation/pso_benchmark.ipynb#W2sZmlsZQ%3D%3D?line=18'>19</a>\u001b[0m pso_alg\u001b[39m.\u001b[39mplot()\n",
      "File \u001b[0;32m~/Documents/Estudos/Mestrado/Tese/Algoritmos Evolutivos/evolutionary_algorithms/src/models/pso.py:136\u001b[0m, in \u001b[0;36mPSO.fit\u001b[0;34m(self)\u001b[0m\n\u001b[1;32m    134\u001b[0m \u001b[39mfor\u001b[39;00m epoch \u001b[39min\u001b[39;00m tqdm(\u001b[39mrange\u001b[39m(\u001b[39mself\u001b[39m\u001b[39m.\u001b[39mnum_epochs)):\n\u001b[1;32m    135\u001b[0m     \u001b[39mself\u001b[39m\u001b[39m.\u001b[39mcurr_epoch \u001b[39m=\u001b[39m epoch\n\u001b[0;32m--> 136\u001b[0m     \u001b[39mself\u001b[39;49m\u001b[39m.\u001b[39;49mcalculate_fitness()\n\u001b[1;32m    137\u001b[0m     \u001b[39mself\u001b[39m\u001b[39m.\u001b[39mupdate_gbest()\n\u001b[1;32m    138\u001b[0m     \u001b[39mself\u001b[39m\u001b[39m.\u001b[39mupdate_pbest()\n",
      "File \u001b[0;32m~/Documents/Estudos/Mestrado/Tese/Algoritmos Evolutivos/evolutionary_algorithms/src/models/pso.py:68\u001b[0m, in \u001b[0;36mPSO.calculate_fitness\u001b[0;34m(self)\u001b[0m\n\u001b[1;32m     67\u001b[0m \u001b[39mdef\u001b[39;00m \u001b[39mcalculate_fitness\u001b[39m(\u001b[39mself\u001b[39m):\n\u001b[0;32m---> 68\u001b[0m     \u001b[39mself\u001b[39m\u001b[39m.\u001b[39mf_x_i \u001b[39m=\u001b[39m \u001b[39mself\u001b[39;49m\u001b[39m.\u001b[39;49mfitness_func(\u001b[39mself\u001b[39;49m\u001b[39m.\u001b[39;49mx_i)\u001b[39m.\u001b[39mcopy()\n",
      "File \u001b[0;32m~/Documents/Estudos/Mestrado/Tese/Implementação da Tese do Jentzsch/rocket_optimization_implementation/fitness_function.py:135\u001b[0m, in \u001b[0;36mRocketFitness.calc_fitness\u001b[0;34m(self, params_matrix, manual_bounds)\u001b[0m\n\u001b[1;32m    131\u001b[0m \u001b[39m# with concurrent.futures.ThreadPoolExecutor(max_workers=self.num_workers) as executor:\u001b[39;00m\n\u001b[1;32m    132\u001b[0m \u001b[39m#     futures = [executor.submit(fitness_func, x) for x in pop]\u001b[39;00m\n\u001b[1;32m    133\u001b[0m \u001b[39m#     results = np.array([future.result() for future in concurrent.futures.as_completed(futures)])\u001b[39;00m\n\u001b[1;32m    134\u001b[0m pool \u001b[39m=\u001b[39m multiprocessing\u001b[39m.\u001b[39mPool(processes\u001b[39m=\u001b[39m\u001b[39mself\u001b[39m\u001b[39m.\u001b[39mnum_workers)\n\u001b[0;32m--> 135\u001b[0m results \u001b[39m=\u001b[39m pool\u001b[39m.\u001b[39;49mmap(fitness_func, pop)\n\u001b[1;32m    136\u001b[0m pool\u001b[39m.\u001b[39mclose()\n\u001b[1;32m    137\u001b[0m pool\u001b[39m.\u001b[39mjoin()\n",
      "File \u001b[0;32m/opt/homebrew/anaconda3/envs/deeplearning/lib/python3.9/multiprocessing/pool.py:364\u001b[0m, in \u001b[0;36mPool.map\u001b[0;34m(self, func, iterable, chunksize)\u001b[0m\n\u001b[1;32m    359\u001b[0m \u001b[39mdef\u001b[39;00m \u001b[39mmap\u001b[39m(\u001b[39mself\u001b[39m, func, iterable, chunksize\u001b[39m=\u001b[39m\u001b[39mNone\u001b[39;00m):\n\u001b[1;32m    360\u001b[0m     \u001b[39m'''\u001b[39;00m\n\u001b[1;32m    361\u001b[0m \u001b[39m    Apply `func` to each element in `iterable`, collecting the results\u001b[39;00m\n\u001b[1;32m    362\u001b[0m \u001b[39m    in a list that is returned.\u001b[39;00m\n\u001b[1;32m    363\u001b[0m \u001b[39m    '''\u001b[39;00m\n\u001b[0;32m--> 364\u001b[0m     \u001b[39mreturn\u001b[39;00m \u001b[39mself\u001b[39;49m\u001b[39m.\u001b[39;49m_map_async(func, iterable, mapstar, chunksize)\u001b[39m.\u001b[39;49mget()\n",
      "File \u001b[0;32m/opt/homebrew/anaconda3/envs/deeplearning/lib/python3.9/multiprocessing/pool.py:765\u001b[0m, in \u001b[0;36mApplyResult.get\u001b[0;34m(self, timeout)\u001b[0m\n\u001b[1;32m    764\u001b[0m \u001b[39mdef\u001b[39;00m \u001b[39mget\u001b[39m(\u001b[39mself\u001b[39m, timeout\u001b[39m=\u001b[39m\u001b[39mNone\u001b[39;00m):\n\u001b[0;32m--> 765\u001b[0m     \u001b[39mself\u001b[39;49m\u001b[39m.\u001b[39;49mwait(timeout)\n\u001b[1;32m    766\u001b[0m     \u001b[39mif\u001b[39;00m \u001b[39mnot\u001b[39;00m \u001b[39mself\u001b[39m\u001b[39m.\u001b[39mready():\n\u001b[1;32m    767\u001b[0m         \u001b[39mraise\u001b[39;00m \u001b[39mTimeoutError\u001b[39;00m\n",
      "File \u001b[0;32m/opt/homebrew/anaconda3/envs/deeplearning/lib/python3.9/multiprocessing/pool.py:762\u001b[0m, in \u001b[0;36mApplyResult.wait\u001b[0;34m(self, timeout)\u001b[0m\n\u001b[1;32m    761\u001b[0m \u001b[39mdef\u001b[39;00m \u001b[39mwait\u001b[39m(\u001b[39mself\u001b[39m, timeout\u001b[39m=\u001b[39m\u001b[39mNone\u001b[39;00m):\n\u001b[0;32m--> 762\u001b[0m     \u001b[39mself\u001b[39;49m\u001b[39m.\u001b[39;49m_event\u001b[39m.\u001b[39;49mwait(timeout)\n",
      "File \u001b[0;32m/opt/homebrew/anaconda3/envs/deeplearning/lib/python3.9/threading.py:581\u001b[0m, in \u001b[0;36mEvent.wait\u001b[0;34m(self, timeout)\u001b[0m\n\u001b[1;32m    579\u001b[0m signaled \u001b[39m=\u001b[39m \u001b[39mself\u001b[39m\u001b[39m.\u001b[39m_flag\n\u001b[1;32m    580\u001b[0m \u001b[39mif\u001b[39;00m \u001b[39mnot\u001b[39;00m signaled:\n\u001b[0;32m--> 581\u001b[0m     signaled \u001b[39m=\u001b[39m \u001b[39mself\u001b[39;49m\u001b[39m.\u001b[39;49m_cond\u001b[39m.\u001b[39;49mwait(timeout)\n\u001b[1;32m    582\u001b[0m \u001b[39mreturn\u001b[39;00m signaled\n",
      "File \u001b[0;32m/opt/homebrew/anaconda3/envs/deeplearning/lib/python3.9/threading.py:312\u001b[0m, in \u001b[0;36mCondition.wait\u001b[0;34m(self, timeout)\u001b[0m\n\u001b[1;32m    310\u001b[0m \u001b[39mtry\u001b[39;00m:    \u001b[39m# restore state no matter what (e.g., KeyboardInterrupt)\u001b[39;00m\n\u001b[1;32m    311\u001b[0m     \u001b[39mif\u001b[39;00m timeout \u001b[39mis\u001b[39;00m \u001b[39mNone\u001b[39;00m:\n\u001b[0;32m--> 312\u001b[0m         waiter\u001b[39m.\u001b[39;49macquire()\n\u001b[1;32m    313\u001b[0m         gotit \u001b[39m=\u001b[39m \u001b[39mTrue\u001b[39;00m\n\u001b[1;32m    314\u001b[0m     \u001b[39melse\u001b[39;00m:\n",
      "\u001b[0;31mKeyboardInterrupt\u001b[0m: "
     ]
    }
   ],
   "source": [
    "\n",
    "\n",
    "pso_alg = PSO(\n",
    "    num_epochs=500,\n",
    "    pop_size=1000,\n",
    "    chrom_length=10,\n",
    "    n_best=2,\n",
    "    global_factor = 0.8,\n",
    "    local_factor = 0.8,\n",
    "    speed_factor = 0.1,\n",
    "    v_max=0.2,\n",
    "    value_ranges=bound_values,\n",
    "    fitness_func=fitness_func_class,\n",
    "    neighborhood_mode='ring',\n",
    "    verbose=True,\n",
    "    eval_every=10,\n",
    "\n",
    "    )\n",
    "\n",
    "best_solutions = pso_alg.fit()\n",
    "pso_alg.plot()"
   ]
  },
  {
   "cell_type": "code",
   "execution_count": 4,
   "metadata": {},
   "outputs": [
    {
     "data": {
      "image/png": "[encoded data removed]",
      "text/plain": [
       "<Figure size 432x288 with 1 Axes>"
      ]
     },
     "metadata": {
      "needs_background": "light"
     },
     "output_type": "display_data"
    }
   ],
   "source": [
    "pso_alg.plot()"
   ]
  },
  {
   "cell_type": "code",
   "execution_count": 5,
   "metadata": {},
   "outputs": [
    {
     "name": "stdout",
     "output_type": "stream",
     "text": [
      "[1.19956657e+07 3.47523344e+00 2.28180932e-01 1.34409454e+02\n",
      " 1.86197248e+07 4.50029858e+00 2.28571082e-01 8.38946410e+01\n",
      " 1.93358383e+00 2.80614474e+00]\n"
     ]
    }
   ],
   "source": [
    "min_mat = bound_values.T[0, :]\n",
    "max_mat = bound_values.T[1,:]\n",
    "best_sol_denorm = pso_alg.gbest * (max_mat - min_mat) + min_mat\n",
    "print(best_sol_denorm)"
   ]
  },
  {
   "cell_type": "code",
   "execution_count": 6,
   "metadata": {},
   "outputs": [
    {
     "name": "stdout",
     "output_type": "stream",
     "text": [
      "***** Payload Bay *****\n",
      "Cone Area: 37.653733282525664 [kg]\n",
      "Cylinder Area: 96.82388558363742 [kg]\n",
      "Frustrum Area: 39.903738074203076 [kg]\n",
      "Total Payload Fairing Mass: 1616.2504440348007 [kg]\n",
      "Electronic Mass: 416.05601806493866 [kg]\n",
      "Power Mass: 96.72054251955629 [kg]\n",
      "Total Payload Mass: 9629.027004619296 [kg]\n",
      "***** Upper Stage Engine *****\n",
      "Isp Vac (s): 384.9325703105585\n",
      "Isp Sea (s): (232.4328186198419, 'Separated (Psep=3.7118e+06, epsSep=110.557)')\n",
      "Mass flow (kg/s): 282.2848029606543\n",
      "Thrust Vac (kN): 1327.030788224653\n",
      "Thrust Sea (kN): 777.3907010808159\n",
      "***** Upper Stage Structure *****\n",
      "Ox Tank Cylyndrical Height: 3.9540559715833923 [m]\n",
      "Fuel Tank Cylyndrical Height: 0.035038260794882876 [m]\n",
      "Ox Tank Volume: 76.72434931831229 [m3]\n",
      "Fuel Tank Volume: 30.69306301172595 [m3]\n",
      "Intertank Structure Mass: 919.4242446397869 [kg]\n",
      "Separation Explosives Mass: 8.377253494018788 [kg]\n",
      "Tank Fairing Mass: 632.4112994977436 [kg]\n",
      "Total Stage Height: 15.884130544492663 [m]\n",
      "Total Stage Dry Mass: 3121.348569563418 [kg]\n",
      "Total Stage Surface Area: 171.52320420405078 [m2]\n",
      "***** First Stage Engine *****\n",
      "Isp Vac (s): 350.2418821031722\n",
      "Isp Sea (s): (296.82377180737865, 'Separated (Psep=3.39934e+06, epsSep=131.791)')\n",
      "Mass flow (kg/s): 452.12185881951893\n",
      "Thrust Vac (kN): 1852.4432304806244\n",
      "Thrust Sea (kN): 1508.1990012033677\n",
      "***** First Stage Structure *****\n",
      "Ox Tank Cylyndrical Height: 6.184150171300946 [m]\n",
      "Fuel Tank Cylyndrical Height: 0.22917419957640123 [m]\n",
      "Ox Tank Volume: 245.54445238749338 [m3]\n",
      "Fuel Tank Volume: 98.22841661441485 [m3]\n",
      "Intertank Structure Mass: 2165.3803712557005 [kg]\n",
      "Separation Explosives Mass: 298.6734669434662 [kg]\n",
      "Tank Fairing Mass: 1011.7808786810426 [kg]\n",
      "Total Stage Height: 21.798604330867445 [m]\n",
      "Total Stage Dry Mass: 9932.864539676066 [kg]\n",
      "Total Stage Surface Area: 312.6264643923288 [m2]\n",
      "***** Rocket Characteristics *****\n",
      "Total Rocket Height: 52.571623764249 [m]\n",
      "Propellant Mass - Upper Stage: 107270.54275475362 [kg]\n",
      "Propellant Mass - First Stage: 343302.83556720254 [kg]\n",
      "Total Mass - Upper Stage: 121511.72217558823 [kg]\n",
      "Total Mass - First Stage: 369338.71541448234 [kg]\n",
      "GLOW: 490850.4375900706 [kg]\n"
     ]
    },
    {
     "data": {
      "text/plain": [
       "0.20372804492335833"
      ]
     },
     "execution_count": 6,
     "metadata": {},
     "output_type": "execute_result"
    }
   ],
   "source": [
    "fitness_func(best_sol_denorm, verbose=True)"
   ]
  },
  {
   "cell_type": "code",
   "execution_count": 9,
   "metadata": {},
   "outputs": [
    {
     "name": "stderr",
     "output_type": "stream",
     "text": [
      "  0%|          | 1/500 [00:06<53:04,  6.38s/it]"
     ]
    },
    {
     "name": "stdout",
     "output_type": "stream",
     "text": [
      "Epoch 0: Best: 0.5698882140733166, Average: 0.23985403594469068\n"
     ]
    },
    {
     "name": "stderr",
     "output_type": "stream",
     "text": [
      "  2%|▏         | 11/500 [01:03<46:35,  5.72s/it]"
     ]
    },
    {
     "name": "stdout",
     "output_type": "stream",
     "text": [
      "Epoch 10: Best: 0.6006889956503878, Average: 0.5014627540026118\n"
     ]
    },
    {
     "name": "stderr",
     "output_type": "stream",
     "text": [
      "  4%|▍         | 21/500 [02:03<46:18,  5.80s/it]"
     ]
    },
    {
     "name": "stdout",
     "output_type": "stream",
     "text": [
      "Epoch 20: Best: 0.6007999714933219, Average: 0.529532592203552\n"
     ]
    },
    {
     "name": "stderr",
     "output_type": "stream",
     "text": [
      "  6%|▌         | 31/500 [02:59<43:52,  5.61s/it]"
     ]
    },
    {
     "name": "stdout",
     "output_type": "stream",
     "text": [
      "Epoch 30: Best: 0.6018476096902409, Average: 0.5297255555587685\n"
     ]
    },
    {
     "name": "stderr",
     "output_type": "stream",
     "text": [
      "  8%|▊         | 41/500 [03:54<42:00,  5.49s/it]"
     ]
    },
    {
     "name": "stdout",
     "output_type": "stream",
     "text": [
      "Epoch 40: Best: 0.6018640220072201, Average: 0.5201641722715022\n"
     ]
    },
    {
     "name": "stderr",
     "output_type": "stream",
     "text": [
      " 10%|█         | 51/500 [04:50<41:26,  5.54s/it]"
     ]
    },
    {
     "name": "stdout",
     "output_type": "stream",
     "text": [
      "Epoch 50: Best: 0.6018640224249836, Average: 0.5373652233379785\n"
     ]
    },
    {
     "name": "stderr",
     "output_type": "stream",
     "text": [
      " 12%|█▏        | 61/500 [05:44<39:45,  5.43s/it]"
     ]
    },
    {
     "name": "stdout",
     "output_type": "stream",
     "text": [
      "Epoch 60: Best: 0.601864022425383, Average: 0.5349086591638665\n"
     ]
    },
    {
     "name": "stderr",
     "output_type": "stream",
     "text": [
      " 14%|█▍        | 71/500 [06:39<39:57,  5.59s/it]"
     ]
    },
    {
     "name": "stdout",
     "output_type": "stream",
     "text": [
      "Epoch 70: Best: 0.6018640224253989, Average: 0.532381545104462\n"
     ]
    },
    {
     "name": "stderr",
     "output_type": "stream",
     "text": [
      " 16%|█▌        | 81/500 [07:33<38:05,  5.46s/it]"
     ]
    },
    {
     "name": "stdout",
     "output_type": "stream",
     "text": [
      "Epoch 80: Best: 0.6018640224616372, Average: 0.5209269653903018\n"
     ]
    },
    {
     "name": "stderr",
     "output_type": "stream",
     "text": [
      " 18%|█▊        | 91/500 [08:27<37:00,  5.43s/it]"
     ]
    },
    {
     "name": "stdout",
     "output_type": "stream",
     "text": [
      "Epoch 90: Best: 0.6018640224616635, Average: 0.5297669989135342\n"
     ]
    },
    {
     "name": "stderr",
     "output_type": "stream",
     "text": [
      " 20%|██        | 101/500 [09:21<35:27,  5.33s/it]"
     ]
    },
    {
     "name": "stdout",
     "output_type": "stream",
     "text": [
      "Epoch 100: Best: 0.6018640224616635, Average: 0.5359071528567502\n"
     ]
    },
    {
     "name": "stderr",
     "output_type": "stream",
     "text": [
      " 22%|██▏       | 111/500 [10:16<35:08,  5.42s/it]"
     ]
    },
    {
     "name": "stdout",
     "output_type": "stream",
     "text": [
      "Epoch 110: Best: 0.6018640224616222, Average: 0.5117241499419051\n"
     ]
    },
    {
     "name": "stderr",
     "output_type": "stream",
     "text": [
      " 24%|██▍       | 121/500 [11:10<33:47,  5.35s/it]"
     ]
    },
    {
     "name": "stdout",
     "output_type": "stream",
     "text": [
      "Epoch 120: Best: 0.6018640224616791, Average: 0.5366002657926883\n"
     ]
    },
    {
     "name": "stderr",
     "output_type": "stream",
     "text": [
      " 26%|██▌       | 131/500 [12:04<32:32,  5.29s/it]"
     ]
    },
    {
     "name": "stdout",
     "output_type": "stream",
     "text": [
      "Epoch 130: Best: 0.6018640224616791, Average: 0.5367983679510203\n"
     ]
    },
    {
     "name": "stderr",
     "output_type": "stream",
     "text": [
      " 28%|██▊       | 141/500 [12:56<31:18,  5.23s/it]"
     ]
    },
    {
     "name": "stdout",
     "output_type": "stream",
     "text": [
      "Epoch 140: Best: 0.6018640224616791, Average: 0.5357009368497608\n"
     ]
    },
    {
     "name": "stderr",
     "output_type": "stream",
     "text": [
      " 30%|███       | 151/500 [13:50<30:58,  5.33s/it]"
     ]
    },
    {
     "name": "stdout",
     "output_type": "stream",
     "text": [
      "Epoch 150: Best: 0.6018640224639428, Average: 0.520648598567817\n"
     ]
    },
    {
     "name": "stderr",
     "output_type": "stream",
     "text": [
      " 32%|███▏      | 161/500 [14:44<30:29,  5.40s/it]"
     ]
    },
    {
     "name": "stdout",
     "output_type": "stream",
     "text": [
      "Epoch 160: Best: 0.6018640224640848, Average: 0.5367730901276137\n"
     ]
    },
    {
     "name": "stderr",
     "output_type": "stream",
     "text": [
      " 34%|███▍      | 171/500 [15:37<29:07,  5.31s/it]"
     ]
    },
    {
     "name": "stdout",
     "output_type": "stream",
     "text": [
      "Epoch 170: Best: 0.6018640224640848, Average: 0.5359465672716796\n"
     ]
    },
    {
     "name": "stderr",
     "output_type": "stream",
     "text": [
      " 36%|███▌      | 181/500 [16:36<29:44,  5.60s/it]"
     ]
    },
    {
     "name": "stdout",
     "output_type": "stream",
     "text": [
      "Epoch 180: Best: 0.6018640224640848, Average: 0.537660886250691\n"
     ]
    },
    {
     "name": "stderr",
     "output_type": "stream",
     "text": [
      " 38%|███▊      | 191/500 [17:34<30:40,  5.96s/it]"
     ]
    },
    {
     "name": "stdout",
     "output_type": "stream",
     "text": [
      "Epoch 190: Best: 0.6018640224640848, Average: 0.5356603826725103\n"
     ]
    },
    {
     "name": "stderr",
     "output_type": "stream",
     "text": [
      " 40%|████      | 201/500 [18:29<26:59,  5.42s/it]"
     ]
    },
    {
     "name": "stdout",
     "output_type": "stream",
     "text": [
      "Epoch 200: Best: 0.6018640224640848, Average: 0.5336400622910069\n"
     ]
    },
    {
     "name": "stderr",
     "output_type": "stream",
     "text": [
      " 42%|████▏     | 211/500 [19:27<28:03,  5.82s/it]"
     ]
    },
    {
     "name": "stdout",
     "output_type": "stream",
     "text": [
      "Epoch 210: Best: 0.6018640224640848, Average: 0.5356227436516557\n"
     ]
    },
    {
     "name": "stderr",
     "output_type": "stream",
     "text": [
      " 44%|████▍     | 221/500 [20:22<26:04,  5.61s/it]"
     ]
    },
    {
     "name": "stdout",
     "output_type": "stream",
     "text": [
      "Epoch 220: Best: 0.6018640224640848, Average: 0.5371120150880149\n"
     ]
    },
    {
     "name": "stderr",
     "output_type": "stream",
     "text": [
      " 46%|████▌     | 231/500 [21:18<24:57,  5.57s/it]"
     ]
    },
    {
     "name": "stdout",
     "output_type": "stream",
     "text": [
      "Epoch 230: Best: 0.6018640224640848, Average: 0.5365637444894488\n"
     ]
    },
    {
     "name": "stderr",
     "output_type": "stream",
     "text": [
      " 48%|████▊     | 241/500 [22:14<23:55,  5.54s/it]"
     ]
    },
    {
     "name": "stdout",
     "output_type": "stream",
     "text": [
      "Epoch 240: Best: 0.6018640224640848, Average: 0.5118714129968227\n"
     ]
    },
    {
     "name": "stderr",
     "output_type": "stream",
     "text": [
      " 50%|█████     | 251/500 [23:10<23:04,  5.56s/it]"
     ]
    },
    {
     "name": "stdout",
     "output_type": "stream",
     "text": [
      "Epoch 250: Best: 0.6018640224640848, Average: 0.5359042242086436\n"
     ]
    },
    {
     "name": "stderr",
     "output_type": "stream",
     "text": [
      " 52%|█████▏    | 261/500 [24:06<22:20,  5.61s/it]"
     ]
    },
    {
     "name": "stdout",
     "output_type": "stream",
     "text": [
      "Epoch 260: Best: 0.6018640224640848, Average: 0.5337580216924176\n"
     ]
    },
    {
     "name": "stderr",
     "output_type": "stream",
     "text": [
      " 54%|█████▍    | 271/500 [25:02<21:20,  5.59s/it]"
     ]
    },
    {
     "name": "stdout",
     "output_type": "stream",
     "text": [
      "Epoch 270: Best: 0.6018640224640848, Average: 0.5364514123705127\n"
     ]
    },
    {
     "name": "stderr",
     "output_type": "stream",
     "text": [
      " 56%|█████▌    | 281/500 [25:58<20:19,  5.57s/it]"
     ]
    },
    {
     "name": "stdout",
     "output_type": "stream",
     "text": [
      "Epoch 280: Best: 0.6018640224640848, Average: 0.535325902438718\n"
     ]
    },
    {
     "name": "stderr",
     "output_type": "stream",
     "text": [
      " 58%|█████▊    | 291/500 [26:54<19:33,  5.62s/it]"
     ]
    },
    {
     "name": "stdout",
     "output_type": "stream",
     "text": [
      "Epoch 290: Best: 0.6018640224640848, Average: 0.5373250259428016\n"
     ]
    },
    {
     "name": "stderr",
     "output_type": "stream",
     "text": [
      " 60%|██████    | 301/500 [27:51<18:55,  5.71s/it]"
     ]
    },
    {
     "name": "stdout",
     "output_type": "stream",
     "text": [
      "Epoch 300: Best: 0.6018640224640848, Average: 0.5373380172176088\n"
     ]
    },
    {
     "name": "stderr",
     "output_type": "stream",
     "text": [
      " 62%|██████▏   | 311/500 [28:49<18:06,  5.75s/it]"
     ]
    },
    {
     "name": "stdout",
     "output_type": "stream",
     "text": [
      "Epoch 310: Best: 0.6018640224640848, Average: 0.5369028397008548\n"
     ]
    },
    {
     "name": "stderr",
     "output_type": "stream",
     "text": [
      " 64%|██████▍   | 321/500 [29:46<16:55,  5.67s/it]"
     ]
    },
    {
     "name": "stdout",
     "output_type": "stream",
     "text": [
      "Epoch 320: Best: 0.6018640224640848, Average: 0.5208944034096692\n"
     ]
    },
    {
     "name": "stderr",
     "output_type": "stream",
     "text": [
      " 66%|██████▌   | 331/500 [30:43<16:08,  5.73s/it]"
     ]
    },
    {
     "name": "stdout",
     "output_type": "stream",
     "text": [
      "Epoch 330: Best: 0.6018640224640848, Average: 0.5351767472759535\n"
     ]
    },
    {
     "name": "stderr",
     "output_type": "stream",
     "text": [
      " 68%|██████▊   | 341/500 [31:44<15:38,  5.90s/it]"
     ]
    },
    {
     "name": "stdout",
     "output_type": "stream",
     "text": [
      "Epoch 340: Best: 0.6018640224640848, Average: 0.5390034195871779\n"
     ]
    },
    {
     "name": "stderr",
     "output_type": "stream",
     "text": [
      " 70%|███████   | 351/500 [32:41<14:09,  5.70s/it]"
     ]
    },
    {
     "name": "stdout",
     "output_type": "stream",
     "text": [
      "Epoch 350: Best: 0.6018640224640848, Average: 0.5348070341314031\n"
     ]
    },
    {
     "name": "stderr",
     "output_type": "stream",
     "text": [
      " 72%|███████▏  | 361/500 [33:38<13:01,  5.62s/it]"
     ]
    },
    {
     "name": "stdout",
     "output_type": "stream",
     "text": [
      "Epoch 360: Best: 0.6018640224640848, Average: 0.5271130298854333\n"
     ]
    },
    {
     "name": "stderr",
     "output_type": "stream",
     "text": [
      " 74%|███████▍  | 371/500 [34:34<12:14,  5.70s/it]"
     ]
    },
    {
     "name": "stdout",
     "output_type": "stream",
     "text": [
      "Epoch 370: Best: 0.6018640224640848, Average: 0.5369104122454023\n"
     ]
    },
    {
     "name": "stderr",
     "output_type": "stream",
     "text": [
      " 76%|███████▌  | 381/500 [35:35<11:42,  5.90s/it]"
     ]
    },
    {
     "name": "stdout",
     "output_type": "stream",
     "text": [
      "Epoch 380: Best: 0.6018640224640848, Average: 0.5274553151728985\n"
     ]
    },
    {
     "name": "stderr",
     "output_type": "stream",
     "text": [
      " 78%|███████▊  | 391/500 [36:35<10:57,  6.04s/it]"
     ]
    },
    {
     "name": "stdout",
     "output_type": "stream",
     "text": [
      "Epoch 390: Best: 0.6018640224640848, Average: 0.5367649536649909\n"
     ]
    },
    {
     "name": "stderr",
     "output_type": "stream",
     "text": [
      " 80%|████████  | 401/500 [37:35<09:57,  6.03s/it]"
     ]
    },
    {
     "name": "stdout",
     "output_type": "stream",
     "text": [
      "Epoch 400: Best: 0.6018640224640848, Average: 0.5358429672935359\n"
     ]
    },
    {
     "name": "stderr",
     "output_type": "stream",
     "text": [
      " 82%|████████▏ | 411/500 [38:34<08:48,  5.94s/it]"
     ]
    },
    {
     "name": "stdout",
     "output_type": "stream",
     "text": [
      "Epoch 410: Best: 0.6018640224640848, Average: 0.5068479113943158\n"
     ]
    },
    {
     "name": "stderr",
     "output_type": "stream",
     "text": [
      " 84%|████████▍ | 421/500 [39:33<07:40,  5.82s/it]"
     ]
    },
    {
     "name": "stdout",
     "output_type": "stream",
     "text": [
      "Epoch 420: Best: 0.6018640224640848, Average: 0.5358878763946829\n"
     ]
    },
    {
     "name": "stderr",
     "output_type": "stream",
     "text": [
      " 86%|████████▌ | 431/500 [41:09<07:46,  6.76s/it]"
     ]
    },
    {
     "name": "stdout",
     "output_type": "stream",
     "text": [
      "Epoch 430: Best: 0.6018640224640848, Average: 0.5343935557099428\n"
     ]
    },
    {
     "name": "stderr",
     "output_type": "stream",
     "text": [
      " 88%|████████▊ | 441/500 [43:57<29:54, 30.41s/it]"
     ]
    },
    {
     "name": "stdout",
     "output_type": "stream",
     "text": [
      "Epoch 440: Best: 0.6018640224640848, Average: 0.5360294146682358\n"
     ]
    },
    {
     "name": "stderr",
     "output_type": "stream",
     "text": [
      " 90%|█████████ | 451/500 [46:45<34:38, 42.41s/it]"
     ]
    },
    {
     "name": "stdout",
     "output_type": "stream",
     "text": [
      "Epoch 450: Best: 0.6018640224640848, Average: 0.5370341266000636\n"
     ]
    },
    {
     "name": "stderr",
     "output_type": "stream",
     "text": [
      " 92%|█████████▏| 461/500 [47:32<03:40,  5.65s/it]"
     ]
    },
    {
     "name": "stdout",
     "output_type": "stream",
     "text": [
      "Epoch 460: Best: 0.6018640224640848, Average: 0.5298918921826008\n"
     ]
    },
    {
     "name": "stderr",
     "output_type": "stream",
     "text": [
      " 94%|█████████▍| 471/500 [48:19<02:18,  4.76s/it]"
     ]
    },
    {
     "name": "stdout",
     "output_type": "stream",
     "text": [
      "Epoch 470: Best: 0.6018640224640848, Average: 0.5373732924580277\n"
     ]
    },
    {
     "name": "stderr",
     "output_type": "stream",
     "text": [
      " 96%|█████████▌| 481/500 [49:06<01:31,  4.81s/it]"
     ]
    },
    {
     "name": "stdout",
     "output_type": "stream",
     "text": [
      "Epoch 480: Best: 0.6018640224640848, Average: 0.5312424622747803\n"
     ]
    },
    {
     "name": "stderr",
     "output_type": "stream",
     "text": [
      " 98%|█████████▊| 491/500 [49:56<00:46,  5.18s/it]"
     ]
    },
    {
     "name": "stdout",
     "output_type": "stream",
     "text": [
      "Epoch 490: Best: 0.6018640224640848, Average: 0.5395748159206638\n"
     ]
    },
    {
     "name": "stderr",
     "output_type": "stream",
     "text": [
      "100%|██████████| 500/500 [50:42<00:00,  6.08s/it]\n"
     ]
    },
    {
     "name": "stdout",
     "output_type": "stream",
     "text": [
      "--- 3049.1724739074707 seconds ---\n"
     ]
    },
    {
     "data": {
      "image/png": "[encoded data removed]",
      "text/plain": [
       "<Figure size 432x288 with 1 Axes>"
      ]
     },
     "metadata": {
      "needs_background": "light"
     },
     "output_type": "display_data"
    }
   ],
   "source": [
    "pso_alg = PSO(\n",
    "    num_epochs=500,\n",
    "    pop_size=1000,\n",
    "    chrom_length=10,\n",
    "    n_best=2,\n",
    "    global_factor = 0.8,\n",
    "    local_factor = 0.8,\n",
    "    speed_factor = 0.1,\n",
    "    v_max=0.2,\n",
    "    value_ranges=bound_values,\n",
    "    fitness_func=fitness_func_class,\n",
    "    neighborhood_mode='self',\n",
    "    verbose=True,\n",
    "    eval_every=10,\n",
    "\n",
    "    )\n",
    "\n",
    "best_solutions = pso_alg.fit()\n",
    "pso_alg.plot()"
   ]
  },
  {
   "cell_type": "code",
   "execution_count": 10,
   "metadata": {},
   "outputs": [
    {
     "name": "stdout",
     "output_type": "stream",
     "text": [
      "[1.19956657e+07 3.47523344e+00 2.28180932e-01 1.34409454e+02\n",
      " 1.86197248e+07 4.50029858e+00 2.28571082e-01 8.38946410e+01\n",
      " 1.93358383e+00 2.80614474e+00]\n"
     ]
    }
   ],
   "source": [
    "min_mat = bound_values.T[0, :]\n",
    "max_mat = bound_values.T[1,:]\n",
    "best_sol_denorm = pso_alg.gbest * (max_mat - min_mat) + min_mat\n",
    "print(best_sol_denorm)"
   ]
  },
  {
   "cell_type": "code",
   "execution_count": 11,
   "metadata": {},
   "outputs": [
    {
     "name": "stdout",
     "output_type": "stream",
     "text": [
      "***** Payload Bay *****\n",
      "Cone Area: 37.653733282525664 [kg]\n",
      "Cylinder Area: 96.82388558363742 [kg]\n",
      "Frustrum Area: 39.903738074429874 [kg]\n",
      "Total Payload Fairing Mass: 1616.250444037045 [kg]\n",
      "Electronic Mass: 416.05601806545644 [kg]\n",
      "Power Mass: 96.72054251967666 [kg]\n",
      "Total Payload Mass: 9629.027004622178 [kg]\n",
      "***** Upper Stage Engine *****\n",
      "Isp Vac (s): 384.9325703105762\n",
      "Isp Sea (s): (232.43281861986213, 'Separated (Psep=3.7118e+06, epsSep=110.557)')\n",
      "Mass flow (kg/s): 282.2848029225034\n",
      "Thrust Vac (kN): 1327.0307880447185\n",
      "Thrust Sea (kN): 777.3907009742269\n",
      "***** Upper Stage Structure *****\n",
      "Ox Tank Cylyndrical Height: 3.9540559713059995 [m]\n",
      "Fuel Tank Cylyndrical Height: 0.03503826053709783 [m]\n",
      "Ox Tank Volume: 76.72434931781669 [m3]\n",
      "Fuel Tank Volume: 30.69306301007641 [m3]\n",
      "Intertank Structure Mass: 919.424244671583 [kg]\n",
      "Separation Explosives Mass: 8.377253494021295 [kg]\n",
      "Tank Fairing Mass: 632.4112994721404 [kg]\n",
      "Total Stage Height: 15.884130544073779 [m]\n",
      "Total Stage Dry Mass: 3121.3485694658207 [kg]\n",
      "Total Stage Surface Area: 171.52320420424456 [m2]\n",
      "***** First Stage Engine *****\n",
      "Isp Vac (s): 350.2418821031401\n",
      "Isp Sea (s): (296.82377180737745, 'Separated (Psep=3.39934e+06, epsSep=131.791)')\n",
      "Mass flow (kg/s): 452.12185877075444\n",
      "Thrust Vac (kN): 1852.4432302776072\n",
      "Thrust Sea (kN): 1508.1990010523218\n",
      "***** First Stage Structure *****\n",
      "Ox Tank Cylyndrical Height: 6.184150171959129 [m]\n",
      "Fuel Tank Cylyndrical Height: 0.229174199726902 [m]\n",
      "Ox Tank Volume: 245.5444523842894 [m3]\n",
      "Fuel Tank Volume: 98.22841660848857 [m3]\n",
      "Intertank Structure Mass: 2165.3803710894204 [kg]\n",
      "Separation Explosives Mass: 298.67346693641326 [kg]\n",
      "Tank Fairing Mass: 1011.780878710901 [kg]\n",
      "Total Stage Height: 21.798604331301373 [m]\n",
      "Total Stage Dry Mass: 9932.864539148746 [kg]\n",
      "Total Stage Surface Area: 312.6264643818402 [m2]\n",
      "***** Rocket Characteristics *****\n",
      "Total Rocket Height: 52.57162376426405 [m]\n",
      "Propellant Mass - Upper Stage: 107270.5427529273 [kg]\n",
      "Propellant Mass - First Stage: 343302.8355590957 [kg]\n",
      "Total Mass - Upper Stage: 121511.72217355066 [kg]\n",
      "Total Mass - First Stage: 369338.71540492785 [kg]\n",
      "GLOW: 490850.4375784785 [kg]\n"
     ]
    },
    {
     "data": {
      "text/plain": [
       "0.20372804492816965"
      ]
     },
     "execution_count": 11,
     "metadata": {},
     "output_type": "execute_result"
    }
   ],
   "source": [
    "fitness_func(best_sol_denorm, verbose=True)"
   ]
  }
 ],
 "metadata": {
  "kernelspec": {
   "display_name": "deeplearning",
   "language": "python",
   "name": "python3"
  },
  "language_info": {
   "codemirror_mode": {
    "name": "ipython",
    "version": 3
   },
   "file_extension": ".py",
   "mimetype": "text/x-python",
   "name": "python",
   "nbconvert_exporter": "python",
   "pygments_lexer": "ipython3",
   "version": "3.9.13"
  },
  "orig_nbformat": 4
 },
 "nbformat": 4,
 "nbformat_minor": 2
}
