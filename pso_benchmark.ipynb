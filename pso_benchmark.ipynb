{
 "cells": [
  {
   "cell_type": "code",
   "execution_count": 1,
   "metadata": {},
   "outputs": [],
   "source": [
    "import sys\n",
    "ga_path = '/Users/pdcos/Documents/Estudos/Mestrado/Tese/Algoritmos Evolutivos/evolutionary_algorithms/src'\n",
    "sys.path.append(ga_path)\n",
    "from models.pso import PSO\n",
    "from models.differential_evolution import DifferentialEvolutionAlgorithm\n",
    "from fitness_function import RocketFitness, bound_values, fitness_func\n",
    "import numpy as np\n",
    "import warnings\n",
    "warnings.filterwarnings('ignore')\n"
   ]
  },
  {
   "cell_type": "code",
   "execution_count": 2,
   "metadata": {},
   "outputs": [],
   "source": [
    "rocket_fitness = RocketFitness(bound_values)\n",
    "random_values = np.random.rand(10,10)\n",
    "fitness_func_class = rocket_fitness.calc_fitness\n"
   ]
  },
  {
   "cell_type": "code",
   "execution_count": 3,
   "metadata": {},
   "outputs": [
    {
     "name": "stderr",
     "output_type": "stream",
     "text": [
      "  0%|          | 1/200 [00:01<06:10,  1.86s/it]"
     ]
    },
    {
     "name": "stdout",
     "output_type": "stream",
     "text": [
      "Epoch 0: Best: 0.11702371508153757, Average: 0.0005851185754076879\n"
     ]
    },
    {
     "name": "stderr",
     "output_type": "stream",
     "text": [
      "  6%|▌         | 11/200 [00:25<07:27,  2.37s/it]"
     ]
    },
    {
     "name": "stdout",
     "output_type": "stream",
     "text": [
      "Epoch 10: Best: 0.18033249896817855, Average: 0.0865061855515556\n"
     ]
    },
    {
     "name": "stderr",
     "output_type": "stream",
     "text": [
      " 10%|█         | 21/200 [00:57<10:52,  3.65s/it]"
     ]
    },
    {
     "name": "stdout",
     "output_type": "stream",
     "text": [
      "Epoch 20: Best: 0.18033262306184, Average: 0.08655965441052124\n"
     ]
    },
    {
     "name": "stderr",
     "output_type": "stream",
     "text": [
      " 16%|█▌        | 31/200 [01:30<09:10,  3.26s/it]"
     ]
    },
    {
     "name": "stdout",
     "output_type": "stream",
     "text": [
      "Epoch 30: Best: 0.18033262311092937, Average: 0.0865596590250418\n"
     ]
    },
    {
     "name": "stderr",
     "output_type": "stream",
     "text": [
      " 20%|██        | 41/200 [02:00<08:24,  3.17s/it]"
     ]
    },
    {
     "name": "stdout",
     "output_type": "stream",
     "text": [
      "Epoch 40: Best: 0.1850594164242453, Average: 0.11649369024355384\n"
     ]
    },
    {
     "name": "stderr",
     "output_type": "stream",
     "text": [
      " 26%|██▌       | 51/200 [02:26<06:35,  2.65s/it]"
     ]
    },
    {
     "name": "stdout",
     "output_type": "stream",
     "text": [
      "Epoch 50: Best: 0.18510189078069442, Average: 0.1166141440448104\n"
     ]
    },
    {
     "name": "stderr",
     "output_type": "stream",
     "text": [
      " 30%|███       | 61/200 [02:53<06:15,  2.70s/it]"
     ]
    },
    {
     "name": "stdout",
     "output_type": "stream",
     "text": [
      "Epoch 60: Best: 0.18510189080459746, Average: 0.11661419120676979\n"
     ]
    },
    {
     "name": "stderr",
     "output_type": "stream",
     "text": [
      " 36%|███▌      | 71/200 [03:20<05:11,  2.42s/it]"
     ]
    },
    {
     "name": "stdout",
     "output_type": "stream",
     "text": [
      "Epoch 70: Best: 0.18510189080457892, Average: 0.11661419120682502\n"
     ]
    },
    {
     "name": "stderr",
     "output_type": "stream",
     "text": [
      " 40%|████      | 81/200 [03:44<04:25,  2.23s/it]"
     ]
    },
    {
     "name": "stdout",
     "output_type": "stream",
     "text": [
      "Epoch 80: Best: 0.1851018908046246, Average: 0.11661419120689802\n"
     ]
    },
    {
     "name": "stderr",
     "output_type": "stream",
     "text": [
      " 46%|████▌     | 91/200 [04:16<06:00,  3.31s/it]"
     ]
    },
    {
     "name": "stdout",
     "output_type": "stream",
     "text": [
      "Epoch 90: Best: 0.1851018908046246, Average: 0.1166141912068981\n"
     ]
    },
    {
     "name": "stderr",
     "output_type": "stream",
     "text": [
      " 50%|█████     | 101/200 [04:49<04:57,  3.00s/it]"
     ]
    },
    {
     "name": "stdout",
     "output_type": "stream",
     "text": [
      "Epoch 100: Best: 0.1851018908046246, Average: 0.11661419120690067\n"
     ]
    },
    {
     "name": "stderr",
     "output_type": "stream",
     "text": [
      " 56%|█████▌    | 111/200 [05:17<04:42,  3.17s/it]"
     ]
    },
    {
     "name": "stdout",
     "output_type": "stream",
     "text": [
      "Epoch 110: Best: 0.1851018908046246, Average: 0.11661419120690247\n"
     ]
    },
    {
     "name": "stderr",
     "output_type": "stream",
     "text": [
      " 60%|██████    | 121/200 [05:48<04:08,  3.15s/it]"
     ]
    },
    {
     "name": "stdout",
     "output_type": "stream",
     "text": [
      "Epoch 120: Best: 0.1851018908046246, Average: 0.11661419120690406\n"
     ]
    },
    {
     "name": "stderr",
     "output_type": "stream",
     "text": [
      " 66%|██████▌   | 131/200 [06:16<03:29,  3.04s/it]"
     ]
    },
    {
     "name": "stdout",
     "output_type": "stream",
     "text": [
      "Epoch 130: Best: 0.1851018908046246, Average: 0.11661419120690418\n"
     ]
    },
    {
     "name": "stderr",
     "output_type": "stream",
     "text": [
      " 70%|███████   | 141/200 [06:51<03:24,  3.47s/it]"
     ]
    },
    {
     "name": "stdout",
     "output_type": "stream",
     "text": [
      "Epoch 140: Best: 0.1851018908046246, Average: 0.11661419120690947\n"
     ]
    },
    {
     "name": "stderr",
     "output_type": "stream",
     "text": [
      " 76%|███████▌  | 151/200 [07:16<01:58,  2.42s/it]"
     ]
    },
    {
     "name": "stdout",
     "output_type": "stream",
     "text": [
      "Epoch 150: Best: 0.1851018908046246, Average: 0.11661419120690952\n"
     ]
    },
    {
     "name": "stderr",
     "output_type": "stream",
     "text": [
      " 80%|████████  | 161/200 [07:48<02:09,  3.31s/it]"
     ]
    },
    {
     "name": "stdout",
     "output_type": "stream",
     "text": [
      "Epoch 160: Best: 0.1851018908046246, Average: 0.1166141912069081\n"
     ]
    },
    {
     "name": "stderr",
     "output_type": "stream",
     "text": [
      " 86%|████████▌ | 171/200 [08:23<01:42,  3.53s/it]"
     ]
    },
    {
     "name": "stdout",
     "output_type": "stream",
     "text": [
      "Epoch 170: Best: 0.18510189080463027, Average: 0.11661419120684334\n"
     ]
    },
    {
     "name": "stderr",
     "output_type": "stream",
     "text": [
      " 90%|█████████ | 181/200 [08:58<01:09,  3.64s/it]"
     ]
    },
    {
     "name": "stdout",
     "output_type": "stream",
     "text": [
      "Epoch 180: Best: 0.18510189080463027, Average: 0.11661419120683007\n"
     ]
    },
    {
     "name": "stderr",
     "output_type": "stream",
     "text": [
      " 96%|█████████▌| 191/200 [09:26<00:22,  2.47s/it]"
     ]
    },
    {
     "name": "stdout",
     "output_type": "stream",
     "text": [
      "Epoch 190: Best: 0.18510189080463027, Average: 0.11661419120684252\n"
     ]
    },
    {
     "name": "stderr",
     "output_type": "stream",
     "text": [
      "100%|██████████| 200/200 [09:47<00:00,  2.94s/it]"
     ]
    },
    {
     "name": "stdout",
     "output_type": "stream",
     "text": [
      "--- 589.8589329719543 seconds ---\n"
     ]
    },
    {
     "name": "stderr",
     "output_type": "stream",
     "text": [
      "\n"
     ]
    },
    {
     "data": {
      "image/png": "[encoded data removed]",
      "text/plain": [
       "<Figure size 432x288 with 1 Axes>"
      ]
     },
     "metadata": {
      "needs_background": "light"
     },
     "output_type": "display_data"
    }
   ],
   "source": [
    "\n",
    "\n",
    "pso_alg = PSO(\n",
    "    num_epochs=200,\n",
    "    pop_size=200,\n",
    "    chrom_length=10,\n",
    "    n_best=2,\n",
    "    global_factor = 0.8,\n",
    "    local_factor = 0.8,\n",
    "    speed_factor = 0.1,\n",
    "    v_max=0.2,\n",
    "    value_ranges=bound_values,\n",
    "    fitness_func=fitness_func_class,\n",
    "    neighborhood_mode='self',\n",
    "    verbose=True,\n",
    "    eval_every=10,\n",
    "\n",
    "    )\n",
    "\n",
    "best_solutions = pso_alg.fit()\n",
    "pso_alg.plot()"
   ]
  },
  {
   "cell_type": "code",
   "execution_count": 4,
   "metadata": {},
   "outputs": [
    {
     "name": "stdout",
     "output_type": "stream",
     "text": [
      "[1.19784834e+07 3.34589503e+00 2.77818126e-01 1.02919203e+02\n",
      " 1.56539960e+07 4.34524941e+00 2.83012375e-01 8.05557035e+01\n",
      " 1.98730938e+00 2.97957555e+00]\n"
     ]
    }
   ],
   "source": [
    "min_mat = bound_values.T[0, :]\n",
    "max_mat = bound_values.T[1,:]\n",
    "best_sol_denorm = pso_alg.gbest * (max_mat - min_mat) + min_mat\n",
    "print(best_sol_denorm)"
   ]
  },
  {
   "cell_type": "code",
   "execution_count": 5,
   "metadata": {},
   "outputs": [
    {
     "name": "stdout",
     "output_type": "stream",
     "text": [
      "***** Payload Bay *****\n",
      "Cone Area: 37.653733282525664 [kg]\n",
      "Cylinder Area: 96.82388558363742 [kg]\n",
      "Frustrum Area: 40.32814926339068 [kg]\n",
      "Total Payload Fairing Mass: 1620.453712776459 [kg]\n",
      "Electronic Mass: 417.0257226718111 [kg]\n",
      "Power Mass: 96.94596974951592 [kg]\n",
      "Total Payload Mass: 9634.425405197786 [kg]\n",
      "***** Upper Stage Engine *****\n",
      "Isp Vac (s): 381.401199259195\n",
      "Isp Sea (s): (241.1203751677573, 'Separated (Psep=3.71287e+06, epsSep=113.711)')\n",
      "Mass flow (kg/s): 420.9103589904743\n",
      "Thrust Vac (kN): 1923.002183873057\n",
      "Thrust Sea (kN): 1299.1130086903695\n",
      "***** Upper Stage Structure *****\n",
      "Ox Tank Cylyndrical Height: 3.8977615848374154 [m]\n",
      "Fuel Tank Cylyndrical Height: 0.07079147165861677 [m]\n",
      "Ox Tank Volume: 81.23755402079277 [m3]\n",
      "Fuel Tank Volume: 33.754798992419154 [m3]\n",
      "Intertank Structure Mass: 979.2456448206167 [kg]\n",
      "Separation Explosives Mass: 8.381950102522074 [kg]\n",
      "Tank Fairing Mass: 643.9939919979181 [kg]\n",
      "Total Stage Height: 16.078491571266472 [m]\n",
      "Total Stage Dry Mass: 3334.7096978427844 [kg]\n",
      "Total Stage Surface Area: 178.03867645447497 [m2]\n",
      "***** First Stage Engine *****\n",
      "Isp Vac (s): 353.7257841352527\n",
      "Isp Sea (s): (292.1496951593499, 'Separated (Psep=3.51937e+06, epsSep=110.411)')\n",
      "Mass flow (kg/s): 576.6762839517661\n",
      "Thrust Vac (kN): 2388.6014996012564\n",
      "Thrust Sea (kN): 1881.8476831306232\n",
      "***** First Stage Structure *****\n",
      "Ox Tank Cylyndrical Height: 5.712617943079729 [m]\n",
      "Fuel Tank Cylyndrical Height: 0.051581184309027715 [m]\n",
      "Ox Tank Volume: 270.13171767309944 [m3]\n",
      "Fuel Tank Volume: 112.24170817844387 [m3]\n",
      "Intertank Structure Mass: 2485.6281649984653 [kg]\n",
      "Separation Explosives Mass: 331.41892590731607 [kg]\n",
      "Tank Fairing Mass: 1013.69739034945 [kg]\n",
      "Total Stage Height: 21.84320230308892 [m]\n",
      "Total Stage Dry Mass: 11630.373466151708 [kg]\n",
      "Total Stage Surface Area: 338.12543024444966 [m2]\n",
      "***** Rocket Characteristics *****\n",
      "Total Rocket Height: 52.810582763244284 [m]\n",
      "Propellant Mass - Upper Stage: 114561.6635785595 [kg]\n",
      "Propellant Mass - First Stage: 380941.2941463403 [kg]\n",
      "Total Mass - Upper Stage: 129355.08149099315 [kg]\n",
      "Total Mass - First Stage: 410887.91421966185 [kg]\n",
      "GLOW: 540242.995710655 [kg]\n"
     ]
    },
    {
     "data": {
      "text/plain": [
       "0.18510189080463027"
      ]
     },
     "execution_count": 5,
     "metadata": {},
     "output_type": "execute_result"
    }
   ],
   "source": [
    "fitness_func(best_sol_denorm, verbose=True)"
   ]
  }
 ],
 "metadata": {
  "kernelspec": {
   "display_name": "deeplearning",
   "language": "python",
   "name": "python3"
  },
  "language_info": {
   "codemirror_mode": {
    "name": "ipython",
    "version": 3
   },
   "file_extension": ".py",
   "mimetype": "text/x-python",
   "name": "python",
   "nbconvert_exporter": "python",
   "pygments_lexer": "ipython3",
   "version": "3.9.13"
  },
  "orig_nbformat": 4
 },
 "nbformat": 4,
 "nbformat_minor": 2
}
