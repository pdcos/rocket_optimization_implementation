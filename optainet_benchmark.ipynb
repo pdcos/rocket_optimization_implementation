{
 "cells": [
  {
   "cell_type": "code",
   "execution_count": 1,
   "metadata": {},
   "outputs": [],
   "source": [
    "import sys\n",
    "ga_path = '/Users/pdcos/Documents/Estudos/Mestrado/Tese/Algoritmos Evolutivos/evolutionary_algorithms/src'\n",
    "sys.path.append(ga_path)\n",
    "from models.pso import PSO\n",
    "from models.differential_evolution import DifferentialEvolutionAlgorithm\n",
    "from models.opt_ai_net import OptAiNet\n",
    "from fitness_function import RocketFitness, bound_values, fitness_func\n",
    "import numpy as np\n",
    "import warnings\n",
    "warnings.filterwarnings('ignore')\n"
   ]
  },
  {
   "cell_type": "code",
   "execution_count": 2,
   "metadata": {},
   "outputs": [],
   "source": [
    "rocket_fitness = RocketFitness(bound_values, parallel=False)\n",
    "random_values = np.random.rand(100,10)\n",
    "fitness_func_class = rocket_fitness.calc_fitness\n"
   ]
  },
  {
   "cell_type": "code",
   "execution_count": 6,
   "metadata": {},
   "outputs": [
    {
     "name": "stderr",
     "output_type": "stream",
     "text": [
      "  0%|          | 2/1000 [00:01<07:49,  2.12it/s]"
     ]
    },
    {
     "name": "stdout",
     "output_type": "stream",
     "text": [
      "Epoch 0: Best: 0, Average: 0.0\n"
     ]
    },
    {
     "name": "stderr",
     "output_type": "stream",
     "text": [
      "  3%|▎         | 27/1000 [00:03<01:54,  8.51it/s]"
     ]
    },
    {
     "name": "stdout",
     "output_type": "stream",
     "text": [
      "Epoch 25: Best: 0.1285740333745064, Average: 0.1285740333745064\n"
     ]
    },
    {
     "name": "stderr",
     "output_type": "stream",
     "text": [
      "  5%|▌         | 52/1000 [00:06<01:48,  8.74it/s]"
     ]
    },
    {
     "name": "stdout",
     "output_type": "stream",
     "text": [
      "Epoch 50: Best: 0.1513241736985098, Average: 0.1513241736985098\n"
     ]
    },
    {
     "name": "stderr",
     "output_type": "stream",
     "text": [
      "  8%|▊         | 77/1000 [00:09<02:04,  7.42it/s]"
     ]
    },
    {
     "name": "stdout",
     "output_type": "stream",
     "text": [
      "Epoch 75: Best: 0.16814296404484652, Average: 0.16814296404484652\n"
     ]
    },
    {
     "name": "stderr",
     "output_type": "stream",
     "text": [
      " 10%|█         | 102/1000 [00:13<02:10,  6.88it/s]"
     ]
    },
    {
     "name": "stdout",
     "output_type": "stream",
     "text": [
      "Epoch 100: Best: 0.17516515633069366, Average: 0.17516515633069366\n"
     ]
    },
    {
     "name": "stderr",
     "output_type": "stream",
     "text": [
      " 13%|█▎        | 126/1000 [00:17<02:19,  6.27it/s]"
     ]
    },
    {
     "name": "stdout",
     "output_type": "stream",
     "text": [
      "Epoch 125: Best: 0.18279092715753695, Average: 0.18279092715753695\n"
     ]
    },
    {
     "name": "stderr",
     "output_type": "stream",
     "text": [
      " 15%|█▌        | 152/1000 [00:20<01:49,  7.76it/s]"
     ]
    },
    {
     "name": "stdout",
     "output_type": "stream",
     "text": [
      "Epoch 150: Best: 0.18798500445464825, Average: 0.18798500445464825\n"
     ]
    },
    {
     "name": "stderr",
     "output_type": "stream",
     "text": [
      " 18%|█▊        | 177/1000 [00:24<02:04,  6.61it/s]"
     ]
    },
    {
     "name": "stdout",
     "output_type": "stream",
     "text": [
      "Epoch 175: Best: 0.19216537617777585, Average: 0.19216537617777585\n"
     ]
    },
    {
     "name": "stderr",
     "output_type": "stream",
     "text": [
      " 20%|██        | 202/1000 [00:27<01:00, 13.28it/s]"
     ]
    },
    {
     "name": "stdout",
     "output_type": "stream",
     "text": [
      "Epoch 200: Best: 0.1981022464656575, Average: 0.1981022464656575\n"
     ]
    },
    {
     "name": "stderr",
     "output_type": "stream",
     "text": [
      " 23%|██▎       | 227/1000 [00:32<03:42,  3.47it/s]"
     ]
    },
    {
     "name": "stdout",
     "output_type": "stream",
     "text": [
      "Epoch 225: Best: 0.20536419691731247, Average: 0.20536419691731247\n"
     ]
    },
    {
     "name": "stderr",
     "output_type": "stream",
     "text": [
      " 25%|██▌       | 252/1000 [00:38<02:11,  5.71it/s]"
     ]
    },
    {
     "name": "stdout",
     "output_type": "stream",
     "text": [
      "Epoch 250: Best: 0.2198656337784813, Average: 0.2198656337784813\n"
     ]
    },
    {
     "name": "stderr",
     "output_type": "stream",
     "text": [
      " 28%|██▊       | 277/1000 [00:44<02:14,  5.39it/s]"
     ]
    },
    {
     "name": "stdout",
     "output_type": "stream",
     "text": [
      "Epoch 275: Best: 0.2256979220660337, Average: 0.2256979220660337\n"
     ]
    },
    {
     "name": "stderr",
     "output_type": "stream",
     "text": [
      " 30%|███       | 302/1000 [00:48<01:36,  7.27it/s]"
     ]
    },
    {
     "name": "stdout",
     "output_type": "stream",
     "text": [
      "Epoch 300: Best: 0.22872710145666073, Average: 0.22872710145666073\n"
     ]
    },
    {
     "name": "stderr",
     "output_type": "stream",
     "text": [
      " 33%|███▎      | 327/1000 [00:51<01:37,  6.93it/s]"
     ]
    },
    {
     "name": "stdout",
     "output_type": "stream",
     "text": [
      "Epoch 325: Best: 0.22880405852965865, Average: 0.22880405852965865\n"
     ]
    },
    {
     "name": "stderr",
     "output_type": "stream",
     "text": [
      " 35%|███▌      | 352/1000 [00:59<02:14,  4.83it/s]"
     ]
    },
    {
     "name": "stdout",
     "output_type": "stream",
     "text": [
      "Epoch 350: Best: 0.23511596811542906, Average: 0.23511596811542906\n"
     ]
    },
    {
     "name": "stderr",
     "output_type": "stream",
     "text": [
      " 38%|███▊      | 376/1000 [01:03<01:45,  5.93it/s]"
     ]
    },
    {
     "name": "stdout",
     "output_type": "stream",
     "text": [
      "Epoch 375: Best: 0.2386187195635144, Average: 0.2386187195635144\n"
     ]
    },
    {
     "name": "stderr",
     "output_type": "stream",
     "text": [
      " 40%|████      | 402/1000 [01:08<01:38,  6.06it/s]"
     ]
    },
    {
     "name": "stdout",
     "output_type": "stream",
     "text": [
      "Epoch 400: Best: 0.2386187195635144, Average: 0.2386187195635144\n"
     ]
    },
    {
     "name": "stderr",
     "output_type": "stream",
     "text": [
      " 43%|████▎     | 427/1000 [01:11<01:07,  8.49it/s]"
     ]
    },
    {
     "name": "stdout",
     "output_type": "stream",
     "text": [
      "Epoch 425: Best: 0.24056117364537158, Average: 0.24056117364537158\n"
     ]
    },
    {
     "name": "stderr",
     "output_type": "stream",
     "text": [
      " 45%|████▌     | 452/1000 [01:15<01:31,  6.01it/s]"
     ]
    },
    {
     "name": "stdout",
     "output_type": "stream",
     "text": [
      "Epoch 450: Best: 0.24058835372680587, Average: 0.24058835372680587\n"
     ]
    },
    {
     "name": "stderr",
     "output_type": "stream",
     "text": [
      " 48%|████▊     | 477/1000 [01:20<01:26,  6.04it/s]"
     ]
    },
    {
     "name": "stdout",
     "output_type": "stream",
     "text": [
      "Epoch 475: Best: 0.24281320716124527, Average: 0.24281320716124527\n"
     ]
    },
    {
     "name": "stderr",
     "output_type": "stream",
     "text": [
      " 50%|█████     | 502/1000 [01:25<02:12,  3.76it/s]"
     ]
    },
    {
     "name": "stdout",
     "output_type": "stream",
     "text": [
      "Epoch 500: Best: 0.24302406585928907, Average: 0.24302406585928907\n"
     ]
    },
    {
     "name": "stderr",
     "output_type": "stream",
     "text": [
      " 53%|█████▎    | 527/1000 [01:31<01:08,  6.95it/s]"
     ]
    },
    {
     "name": "stdout",
     "output_type": "stream",
     "text": [
      "Epoch 525: Best: 0.24497267392478686, Average: 0.24497267392478686\n"
     ]
    },
    {
     "name": "stderr",
     "output_type": "stream",
     "text": [
      " 55%|█████▌    | 552/1000 [01:34<00:55,  8.14it/s]"
     ]
    },
    {
     "name": "stdout",
     "output_type": "stream",
     "text": [
      "Epoch 550: Best: 0.24592124040197588, Average: 0.24592124040197588\n"
     ]
    },
    {
     "name": "stderr",
     "output_type": "stream",
     "text": [
      " 58%|█████▊    | 577/1000 [01:40<01:15,  5.57it/s]"
     ]
    },
    {
     "name": "stdout",
     "output_type": "stream",
     "text": [
      "Epoch 575: Best: 0.25080747385638186, Average: 0.25080747385638186\n"
     ]
    },
    {
     "name": "stderr",
     "output_type": "stream",
     "text": [
      " 60%|██████    | 601/1000 [01:46<01:05,  6.06it/s]"
     ]
    },
    {
     "name": "stdout",
     "output_type": "stream",
     "text": [
      "Epoch 600: Best: 0.25356764031965495, Average: 0.25356764031965495\n"
     ]
    },
    {
     "name": "stderr",
     "output_type": "stream",
     "text": [
      " 63%|██████▎   | 626/1000 [01:50<00:51,  7.23it/s]"
     ]
    },
    {
     "name": "stdout",
     "output_type": "stream",
     "text": [
      "Epoch 625: Best: 0.2567308854678261, Average: 0.2567308854678261\n"
     ]
    },
    {
     "name": "stderr",
     "output_type": "stream",
     "text": [
      " 65%|██████▌   | 652/1000 [01:55<00:44,  7.81it/s]"
     ]
    },
    {
     "name": "stdout",
     "output_type": "stream",
     "text": [
      "Epoch 650: Best: 0.2594301980923278, Average: 0.2594301980923278\n"
     ]
    },
    {
     "name": "stderr",
     "output_type": "stream",
     "text": [
      " 68%|██████▊   | 676/1000 [01:58<00:41,  7.78it/s]"
     ]
    },
    {
     "name": "stdout",
     "output_type": "stream",
     "text": [
      "Epoch 675: Best: 0.25967626649198045, Average: 0.25967626649198045\n"
     ]
    },
    {
     "name": "stderr",
     "output_type": "stream",
     "text": [
      " 70%|███████   | 701/1000 [02:05<01:43,  2.90it/s]"
     ]
    },
    {
     "name": "stdout",
     "output_type": "stream",
     "text": [
      "Epoch 700: Best: 0.26426678818155314, Average: 0.26426678818155314\n"
     ]
    },
    {
     "name": "stderr",
     "output_type": "stream",
     "text": [
      " 73%|███████▎  | 727/1000 [02:10<00:56,  4.81it/s]"
     ]
    },
    {
     "name": "stdout",
     "output_type": "stream",
     "text": [
      "Epoch 725: Best: 0.2698196795861622, Average: 0.2698196795861622\n"
     ]
    },
    {
     "name": "stderr",
     "output_type": "stream",
     "text": [
      " 75%|███████▌  | 751/1000 [02:17<00:51,  4.79it/s]"
     ]
    },
    {
     "name": "stdout",
     "output_type": "stream",
     "text": [
      "Epoch 750: Best: 0.27240437081485924, Average: 0.13620218540742962\n"
     ]
    },
    {
     "name": "stderr",
     "output_type": "stream",
     "text": [
      " 78%|███████▊  | 777/1000 [02:22<00:40,  5.57it/s]"
     ]
    },
    {
     "name": "stdout",
     "output_type": "stream",
     "text": [
      "Epoch 775: Best: 0.27240437081485924, Average: 0.13620218540742962\n"
     ]
    },
    {
     "name": "stderr",
     "output_type": "stream",
     "text": [
      " 80%|████████  | 801/1000 [02:26<00:36,  5.39it/s]"
     ]
    },
    {
     "name": "stdout",
     "output_type": "stream",
     "text": [
      "Epoch 800: Best: 0.27240437081485924, Average: 0.13620218540742962\n"
     ]
    },
    {
     "name": "stderr",
     "output_type": "stream",
     "text": [
      " 83%|████████▎ | 827/1000 [02:31<00:29,  5.81it/s]"
     ]
    },
    {
     "name": "stdout",
     "output_type": "stream",
     "text": [
      "Epoch 825: Best: 0.272911897702963, Average: 0.1364559488514815\n"
     ]
    },
    {
     "name": "stderr",
     "output_type": "stream",
     "text": [
      " 85%|████████▌ | 852/1000 [02:36<00:28,  5.24it/s]"
     ]
    },
    {
     "name": "stdout",
     "output_type": "stream",
     "text": [
      "Epoch 850: Best: 0.272911897702963, Average: 0.1364559488514815\n"
     ]
    },
    {
     "name": "stderr",
     "output_type": "stream",
     "text": [
      " 88%|████████▊ | 876/1000 [02:42<00:24,  5.06it/s]"
     ]
    },
    {
     "name": "stdout",
     "output_type": "stream",
     "text": [
      "Epoch 875: Best: 0.2729169268376062, Average: 0.1364584634188031\n"
     ]
    },
    {
     "name": "stderr",
     "output_type": "stream",
     "text": [
      " 90%|█████████ | 902/1000 [02:47<00:19,  4.94it/s]"
     ]
    },
    {
     "name": "stdout",
     "output_type": "stream",
     "text": [
      "Epoch 900: Best: 0.2729169268376062, Average: 0.1364584634188031\n"
     ]
    },
    {
     "name": "stderr",
     "output_type": "stream",
     "text": [
      " 93%|█████████▎| 926/1000 [02:52<00:20,  3.58it/s]"
     ]
    },
    {
     "name": "stdout",
     "output_type": "stream",
     "text": [
      "Epoch 925: Best: 0.2729827175404927, Average: 0.13649135877024635\n"
     ]
    },
    {
     "name": "stderr",
     "output_type": "stream",
     "text": [
      " 95%|█████████▌| 952/1000 [02:58<00:08,  5.73it/s]"
     ]
    },
    {
     "name": "stdout",
     "output_type": "stream",
     "text": [
      "Epoch 950: Best: 0.2729827175404927, Average: 0.13649135877024635\n"
     ]
    },
    {
     "name": "stderr",
     "output_type": "stream",
     "text": [
      " 98%|█████████▊| 976/1000 [03:02<00:04,  4.81it/s]"
     ]
    },
    {
     "name": "stdout",
     "output_type": "stream",
     "text": [
      "Epoch 975: Best: 0.27351199763700845, Average: 0.13675599881850423\n"
     ]
    },
    {
     "name": "stderr",
     "output_type": "stream",
     "text": [
      "100%|██████████| 1000/1000 [03:08<00:00,  5.29it/s]"
     ]
    },
    {
     "name": "stdout",
     "output_type": "stream",
     "text": [
      "--- 189.10667991638184 seconds ---\n"
     ]
    },
    {
     "name": "stderr",
     "output_type": "stream",
     "text": [
      "\n"
     ]
    },
    {
     "data": {
      "image/png": "[encoded data removed]",
      "text/plain": [
       "<Figure size 432x288 with 1 Axes>"
      ]
     },
     "metadata": {
      "needs_background": "light"
     },
     "output_type": "display_data"
    }
   ],
   "source": [
    "# Focus on exploitating build:\n",
    "# - clone_threshold = 0.1\n",
    "# - supression_threshold = 2\n",
    "\n",
    "opt_ai_net = OptAiNet( \n",
    "                num_epochs=1000,\n",
    "                pop_size=20,\n",
    "                Nc=4,\n",
    "                chrom_length=10,\n",
    "                clone_threshold=0.1,\n",
    "                supression_threshold=2,\n",
    "                newcomers_percentage=0.4,\n",
    "                beta=100,\n",
    "                value_ranges=bound_values,\n",
    "                fitness_func=fitness_func_class,\n",
    "                verbose=True,\n",
    "                eval_every=25\n",
    "            )\n",
    "\n",
    "best_solutions = opt_ai_net.fit()\n",
    "opt_ai_net.plot()"
   ]
  },
  {
   "cell_type": "code",
   "execution_count": 7,
   "metadata": {},
   "outputs": [
    {
     "name": "stdout",
     "output_type": "stream",
     "text": [
      "0.27351199763700845\n",
      "[0.23852881 0.3002863  0.31904185 0.99020637 0.65344544 0.30135405\n",
      " 0.13609304 0.11084863 0.09756327 0.17203901]\n"
     ]
    }
   ],
   "source": [
    "# Por que grafico acima perdeu o pico?\n",
    "print(opt_ai_net.best_solution_fitness)\n",
    "print(opt_ai_net.best_solution)\n",
    "\n"
   ]
  },
  {
   "attachments": {},
   "cell_type": "markdown",
   "metadata": {},
   "source": [
    "Supressao\n",
    "Factibilidade - fitness negativo\n",
    "elitismo\n",
    "memoria RAM"
   ]
  },
  {
   "cell_type": "code",
   "execution_count": 8,
   "metadata": {},
   "outputs": [
    {
     "name": "stdout",
     "output_type": "stream",
     "text": [
      "[7.91733560e+06 3.40229043e+00 2.25473020e-01 1.98060861e+02\n",
      " 1.99499176e+07 3.41083244e+00 1.24851174e-01 2.39480285e+01\n",
      " 1.87806947e+00 2.54835105e+00]\n"
     ]
    }
   ],
   "source": [
    "min_mat = bound_values.T[0, :]\n",
    "max_mat = bound_values.T[1,:]\n",
    "best_sol_denorm = opt_ai_net.best_solution * (max_mat - min_mat) + min_mat\n",
    "print(best_sol_denorm)"
   ]
  },
  {
   "cell_type": "code",
   "execution_count": 9,
   "metadata": {},
   "outputs": [
    {
     "name": "stdout",
     "output_type": "stream",
     "text": [
      "***** Payload Bay *****\n",
      "Cone Area: 37.653733282525664 [kg]\n",
      "Cylinder Area: 96.82388558363742 [kg]\n",
      "Frustrum Area: 39.47610332694513 [kg]\n",
      "Total Payload Fairing Mass: 1612.0220272072518 [kg]\n",
      "Electronic Mass: 415.0805117317809 [kg]\n",
      "Power Mass: 96.4937665622871 [kg]\n",
      "Total Payload Mass: 9623.59630550132 [kg]\n",
      "***** Upper Stage Engine *****\n",
      "Isp Vac (s): 393.73473635612163\n",
      "Isp Sea (s): (235.78102854807895, 'Separated (Psep=4.03342e+06, epsSep=63.5907)')\n",
      "Mass flow (kg/s): 178.79061861693765\n",
      "Thrust Vac (kN): 872.8946552687447\n",
      "Thrust Sea (kN): 82.07454138023539\n",
      "***** Upper Stage Structure *****\n",
      "Ox Tank Cylyndrical Height: 3.7043756234807383 [m]\n",
      "Fuel Tank Cylyndrical Height: 0.03281164483932502 [m]\n",
      "Ox Tank Volume: 68.79512141345474 [m3]\n",
      "Fuel Tank Volume: 28.111062214506344 [m3]\n",
      "Intertank Structure Mass: 859.8403820986733 [kg]\n",
      "Separation Explosives Mass: 8.372528785786148 [kg]\n",
      "Tank Fairing Mass: 602.8212151180348 [kg]\n",
      "Total Stage Height: 15.410166120098804 [m]\n",
      "Total Stage Dry Mass: 2876.7835703517158 [kg]\n",
      "Total Stage Surface Area: 163.22707182991593 [m2]\n",
      "***** First Stage Engine *****\n",
      "Isp Vac (s): 348.54159834630497\n",
      "Isp Sea (s): (328.0187729287609, 'UnderExpanded (Pe=1.80959e+07)')\n",
      "Mass flow (kg/s): 145.27764637069095\n",
      "Thrust Vac (kN): 553.7167143750513\n",
      "Thrust Sea (kN): 524.3980009253727\n",
      "***** First Stage Structure *****\n",
      "Ox Tank Cylyndrical Height: 5.059798772315647 [m]\n",
      "Fuel Tank Cylyndrical Height: 0.058143146430165125 [m]\n",
      "Ox Tank Volume: 172.55022557386994 [m3]\n",
      "Fuel Tank Volume: 70.50747242791407 [m3]\n",
      "Intertank Structure Mass: 1734.911485956989 [kg]\n",
      "Separation Explosives Mass: 210.8908043373696 [kg]\n",
      "Tank Fairing Mass: 859.3288742130876 [kg]\n",
      "Total Stage Height: 19.472047097562218 [m]\n",
      "Total Stage Dry Mass: 5717.529470971547 [kg]\n",
      "Total Stage Surface Area: 263.3161626868814 [m2]\n",
      "***** Rocket Characteristics *****\n",
      "Total Rocket Height: 49.771102106549904 [m]\n",
      "Propellant Mass - Upper Stage: 96645.2470735558 [kg]\n",
      "Propellant Mass - First Stage: 242403.2233762869 [kg]\n",
      "Total Mass - Upper Stage: 110291.79885648329 [kg]\n",
      "Total Mass - First Stage: 255322.87568775745 [kg]\n",
      "GLOW: 365614.67454424076 [kg]\n"
     ]
    },
    {
     "data": {
      "text/plain": [
       "0.27351199763700845"
      ]
     },
     "execution_count": 9,
     "metadata": {},
     "output_type": "execute_result"
    }
   ],
   "source": [
    "fitness_func(best_sol_denorm, verbose=True)"
   ]
  }
 ],
 "metadata": {
  "kernelspec": {
   "display_name": "deeplearning",
   "language": "python",
   "name": "python3"
  },
  "language_info": {
   "codemirror_mode": {
    "name": "ipython",
    "version": 3
   },
   "file_extension": ".py",
   "mimetype": "text/x-python",
   "name": "python",
   "nbconvert_exporter": "python",
   "pygments_lexer": "ipython3",
   "version": "3.9.13"
  },
  "orig_nbformat": 4
 },
 "nbformat": 4,
 "nbformat_minor": 2
}
