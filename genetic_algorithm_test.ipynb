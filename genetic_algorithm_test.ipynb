{
 "cells": [
  {
   "cell_type": "code",
   "execution_count": 1,
   "metadata": {},
   "outputs": [],
   "source": [
    "import pygad\n",
    "import numpy as np\n",
    "from model.build_rocket import RocketModel\n",
    "import math\n",
    "import sys\n",
    "import os\n",
    "import sys, os\n",
    "import warnings\n",
    "import contextlib\n",
    "import io\n",
    "import re\n",
    "\n",
    "import builtins\n"
   ]
  },
  {
   "cell_type": "code",
   "execution_count": 2,
   "metadata": {},
   "outputs": [],
   "source": [
    "\n",
    "params_list = [11.5 * 1e6, 2.9, 0.23125, 190, \n",
    "                11.5 * 1e6, 2.9, 0.23125, 190,\n",
    "                2,\n",
    "                2.6]\n",
    "bounds = [[1e6, 30e6], [1, 9], [0.05, 0.6], [2, 200],\n",
    "          [1e6, 30e6], [1, 9], [0.05, 0.6], [2, 200],\n",
    "          [1, 10],\n",
    "          [1, 10]\n",
    " ]\n",
    "\n",
    "bounds_norm = [[0, 1], [0, 1], [0, 1], [0, 1],\n",
    "          [0, 1], [0, 1], [0, 1], [0, 1],\n",
    "          [0, 1],\n",
    "          [0, 1]\n",
    " ]\n",
    "\n",
    "def normalize(parameters_list, bounds):\n",
    "    normalized_list = []\n",
    "    for param, bound in zip(params_list, bounds):\n",
    "        lower_bound = bound[0]\n",
    "        upper_bound = bound[1]\n",
    "        norm_param = (param - lower_bound) / (upper_bound - lower_bound)\n",
    "        normalized_list.append(norm_param)\n",
    "    return normalized_list\n",
    "\n",
    "def denormalize(norm_params_list, bounds):\n",
    "    denormalized_list = []\n",
    "    for norm_param, bound in zip(norm_params_list, bounds):\n",
    "        lower_bound = bound[0]\n",
    "        upper_bound = bound[1]\n",
    "        denorm_param = (norm_param * (upper_bound - lower_bound)) + lower_bound\n",
    "        denormalized_list.append(denorm_param)\n",
    "    return denormalized_list\n",
    "\n",
    "def fitness_func(parameters_list, solution_idx):\n",
    "    parameters_list = denormalize(parameters_list, bounds)\n",
    "    engineParams = {\"oxName\": \"LOX\",\n",
    "                    \"fuelName\": \"RP-1\",\n",
    "                    \"combPressure\": parameters_list[0],\n",
    "                    \"MR\": parameters_list[1],\n",
    "                    \"nozzleDiam\": parameters_list[2],\n",
    "                    \"eps\": parameters_list[3]}\n",
    "\n",
    "    engineParamsFirst = {\"oxName\": \"LOX\",\n",
    "                    \"fuelName\": \"RP-1\",\n",
    "                    \"combPressure\": parameters_list[4],\n",
    "                    \"MR\": parameters_list[5],\n",
    "                    \"nozzleDiam\": parameters_list[6],\n",
    "                    \"eps\": parameters_list[7]}\n",
    "\n",
    "    upperStageStructureParams = {\"oxName\": \"LOX\",\n",
    "                                 \"fuelName\": \"RP1\",\n",
    "                                 \"MR\": parameters_list[1],\n",
    "                                 \"tankPressure\": 0.1,\n",
    "                                 \"radius\": parameters_list[8],\n",
    "                                } # 0 porque ainda nao temos esse valor\n",
    "    firstStageStructureParams = {\"oxName\": \"LOX\",\n",
    "                                \"fuelName\": \"RP1\",\n",
    "                                \"MR\": parameters_list[5],\n",
    "                                \"tankPressure\": 0.1,\n",
    "                                \"radius\": parameters_list[9],\n",
    "                            } # 0 porque ainda nao temos esse valor\n",
    "    payloadBayParams = {\"payloadHeight\": 6.7,\n",
    "                    \"payloadRadius\": 4.6/2,\n",
    "                    \"payloadMass\": 7500,\n",
    "                    \"lowerStageRadius\": parameters_list[8],\n",
    "                    \"lowerRocketSurfaceArea\": 0} # 0 porque ainda nao temos esse valor\n",
    "\n",
    "    rocket_model = RocketModel(upperEngineParams=engineParams,\n",
    "                               firstEngineParams=engineParamsFirst,\n",
    "                               payloadBayParams=payloadBayParams,\n",
    "                               upperStageStructureParams=upperStageStructureParams,\n",
    "                               firstStageStructureParams = firstStageStructureParams,\n",
    "                               deltaV_upperStage=8500,\n",
    "                               deltaV_landing=2000,\n",
    "                               deltaV_firstStage=3500,\n",
    "                               nEnginesUpperStage=1,\n",
    "                               nEnignesFirstStage=10)\n",
    "\n",
    "    try:\n",
    "        rocket_model.build_all()\n",
    "        glow = rocket_model.glow\n",
    "\n",
    "    except:\n",
    "        return 0\n",
    "    #enablePrint()\n",
    "\n",
    "    #print(rocket_model.upperStageEngine.thrustVac)\n",
    "    #print(rocket_model.m_0_2)\n",
    "\n",
    "    if math.isnan(glow):\n",
    "        return 0\n",
    "    if math.isnan(rocket_model.m_0_1):\n",
    "        return 0\n",
    "    if math.isnan(rocket_model.m_0_2):\n",
    "        return 0\n",
    "    if rocket_model.m_0_1 <= 0:\n",
    "        return 0\n",
    "    if rocket_model.m_0_2 <= 0:\n",
    "        return 0\n",
    "    if rocket_model.m_p_1 <= 0:\n",
    "        return 0\n",
    "    if rocket_model.m_p_2 <= 0:\n",
    "        return 0\n",
    "    if rocket_model.upperStageStructure.oxTankCylHeight < 0:\n",
    "        return 0\n",
    "    if rocket_model.upperStageStructure.fuelTankCylHeight < 0:\n",
    "        return 0\n",
    "    if rocket_model.firstStageStructure.oxTankCylHeight < 0:\n",
    "        return 0\n",
    "    if rocket_model.firstStageStructure.fuelTankCylHeight  < 0:\n",
    "        return 0\n",
    "    if rocket_model.upperStageEngine.thrustVac * 1<= 0.8 * rocket_model.m_0_2 * 9.81:\n",
    "        return 0\n",
    "    if rocket_model.firstStageEngine.thrustSea * 10 <= 1.3 * rocket_model.glow * 9.81: # Multiplicar pelo número de motores (9)\n",
    "        return 0\n",
    "\n",
    "    #print(rocket_model.glow * 9.81 * 1.3)\n",
    "    #print(rocket_model.firstStageEngine.thrustSea * 10)\n",
    "\n",
    "    #print(0.8 * rocket_model.m_0_2 * 9.81)\n",
    "    #print(rocket_model.upperStageEngine.thrustVac * 1)\n",
    "\n",
    "    #glow = glow / 100000\n",
    "    fitness = (1.0/glow) * 100000\n",
    "    return fitness\n",
    "\n",
    "norm = normalize(params_list, bounds)\n",
    "fitness_func(norm, 0)\n",
    "norm = normalize(params_list, bounds)\n",
    "denorm = denormalize(norm, bounds)\n"
   ]
  },
  {
   "cell_type": "code",
   "execution_count": 3,
   "metadata": {},
   "outputs": [],
   "source": [
    "num_generations = 50\n",
    "num_parents_mating = 50\n",
    "\n",
    "fitness_function = fitness_func\n",
    "\n",
    "sol_per_pop = 500\n",
    "num_genes = len(params_list)\n",
    "\n",
    "init_range_low = 0\n",
    "init_range_high = 1\n",
    "\n",
    "parent_selection_type = \"sss\"\n",
    "keep_parents = 1\n",
    "\n",
    "mutation_probability = 0.2\n",
    "\n",
    "crossover_type = \"scattered\"\n",
    "\n",
    "mutation_type = \"random\"\n",
    "last_fitness = 0\n",
    "def on_generation(ga_instance):\n",
    "    global last_fitness\n",
    "    gen_string = \"Generation = {generation}\".format(generation=ga_instance.generations_completed)\n",
    "    fitness_string = \"Fitness = {fitness:.4f}\".format(fitness=ga_instance.best_solution(pop_fitness=ga_instance.last_generation_fitness)[1])\n",
    "    change_string = \"Change = {change:.4f}\".format(change=ga_instance.best_solution(pop_fitness=ga_instance.last_generation_fitness)[1] - last_fitness)\n",
    "    print( gen_string, fitness_string, change_string)\n",
    "    last_fitness = ga_instance.best_solution(pop_fitness=ga_instance.last_generation_fitness)[1]\n",
    "\n"
   ]
  },
  {
   "cell_type": "code",
   "execution_count": 4,
   "metadata": {},
   "outputs": [],
   "source": [
    "ga_instance = pygad.GA(num_generations=num_generations,\n",
    "                       num_parents_mating=num_parents_mating,\n",
    "                       fitness_func=fitness_function,\n",
    "                       sol_per_pop=sol_per_pop,\n",
    "                       num_genes=num_genes,\n",
    "                       parent_selection_type=parent_selection_type,\n",
    "                       keep_parents=keep_parents,\n",
    "                       crossover_type=crossover_type,\n",
    "                       mutation_type=mutation_type,\n",
    "                       mutation_probability=mutation_probability,\n",
    "                       gene_space={'low': 0, 'high': 1},\n",
    "                       init_range_high=init_range_high,\n",
    "                       init_range_low=init_range_low,\n",
    "                       parallel_processing=[\"thread\", 8],\n",
    "                       on_generation=on_generation,\n",
    "                       gene_type=float)\n"
   ]
  },
  {
   "cell_type": "code",
   "execution_count": 5,
   "metadata": {},
   "outputs": [
    {
     "name": "stderr",
     "output_type": "stream",
     "text": [
      "/Users/pdcos/Documents/Estudos/Mestrado/Tese/Implementação da Tese do Jentzsch/rocket_optimization_implementation/model/structure/stage_structure.py:227: RuntimeWarning: invalid value encountered in double_scalars\n",
      "  mass = 4.95 * (area ** 1.15)\n"
     ]
    },
    {
     "name": "stdout",
     "output_type": "stream",
     "text": [
      "Generation = 1 Fitness = 0.1579 Change = 0.1579\n",
      "Generation = 2 Fitness = 0.1689 Change = 0.0110\n"
     ]
    },
    {
     "name": "stderr",
     "output_type": "stream",
     "text": [
      "/opt/homebrew/anaconda3/envs/deeplearning/lib/python3.9/site-packages/proptools/nozzle.py:102: RuntimeWarning: divide by zero encountered in double_scalars\n",
      "  * (p_e / p_c)**(1 / gamma) \\\n",
      "/opt/homebrew/anaconda3/envs/deeplearning/lib/python3.9/site-packages/proptools/nozzle.py:103: RuntimeWarning: divide by zero encountered in double_scalars\n",
      "  * ((gamma + 1) / (gamma - 1)*( 1 - (p_e / p_c)**((gamma -1) / gamma)))**0.5\n",
      "/opt/homebrew/anaconda3/envs/deeplearning/lib/python3.9/site-packages/proptools/nozzle.py:101: RuntimeWarning: invalid value encountered in multiply\n",
      "  AtAe = ((gamma + 1) / 2)**(1 / (gamma - 1)) \\\n",
      "/opt/homebrew/anaconda3/envs/deeplearning/lib/python3.9/site-packages/scipy/optimize/_minpack_py.py:175: RuntimeWarning: The iteration is not making good progress, as measured by the \n",
      "  improvement from the last ten iterations.\n",
      "  warnings.warn(msg, RuntimeWarning)\n",
      "/opt/homebrew/anaconda3/envs/deeplearning/lib/python3.9/site-packages/proptools/nozzle.py:53: RuntimeWarning: divide by zero encountered in double_scalars\n",
      "  * (1 - (p_e / p_c)**((gamma - 1) / gamma))\n",
      "/opt/homebrew/anaconda3/envs/deeplearning/lib/python3.9/site-packages/proptools/nozzle.py:51: RuntimeWarning: invalid value encountered in double_scalars\n",
      "  C_F = (2 * gamma**2 / (gamma - 1) \\\n",
      "/opt/homebrew/anaconda3/envs/deeplearning/lib/python3.9/site-packages/proptools/nozzle.py:173: RuntimeWarning: invalid value encountered in double_scalars\n",
      "  return (A_t * p_c * gamma / (gamma * R_univ / m_molar * T_c)**0.5\n"
     ]
    },
    {
     "name": "stdout",
     "output_type": "stream",
     "text": [
      "Generation = 3 Fitness = 0.1923 Change = 0.0234\n"
     ]
    },
    {
     "ename": "KeyboardInterrupt",
     "evalue": "",
     "output_type": "error",
     "traceback": [
      "\u001b[0;31m---------------------------------------------------------------------------\u001b[0m",
      "\u001b[0;31mKeyboardInterrupt\u001b[0m                         Traceback (most recent call last)",
      "\u001b[1;32m/Users/pdcos/Documents/Estudos/Mestrado/Tese/Implementação da Tese do Jentzsch/rocket_optimization_implementation/genetic_algorithm_test.ipynb Cell 5\u001b[0m in \u001b[0;36m1\n\u001b[0;32m----> <a href='vscode-notebook-cell:/Users/pdcos/Documents/Estudos/Mestrado/Tese/Implementa%C3%A7%C3%A3o%20da%20Tese%20do%20Jentzsch/rocket_optimization_implementation/genetic_algorithm_test.ipynb#W4sZmlsZQ%3D%3D?line=0'>1</a>\u001b[0m ga_instance\u001b[39m.\u001b[39;49mrun()\n",
      "File \u001b[0;32m/opt/homebrew/anaconda3/envs/deeplearning/lib/python3.9/site-packages/pygad/pygad.py:1409\u001b[0m, in \u001b[0;36mGA.run\u001b[0;34m(self)\u001b[0m\n\u001b[1;32m   1407\u001b[0m \u001b[39mself\u001b[39m\u001b[39m.\u001b[39mprevious_generation_fitness \u001b[39m=\u001b[39m \u001b[39mself\u001b[39m\u001b[39m.\u001b[39mlast_generation_fitness\u001b[39m.\u001b[39mcopy()\n\u001b[1;32m   1408\u001b[0m \u001b[39m# Measuring the fitness of each chromosome in the population. Save the fitness in the last_generation_fitness attribute.\u001b[39;00m\n\u001b[0;32m-> 1409\u001b[0m \u001b[39mself\u001b[39m\u001b[39m.\u001b[39mlast_generation_fitness \u001b[39m=\u001b[39m \u001b[39mself\u001b[39;49m\u001b[39m.\u001b[39;49mcal_pop_fitness()\n\u001b[1;32m   1411\u001b[0m best_solution, best_solution_fitness, best_match_idx \u001b[39m=\u001b[39m \u001b[39mself\u001b[39m\u001b[39m.\u001b[39mbest_solution(pop_fitness\u001b[39m=\u001b[39m\u001b[39mself\u001b[39m\u001b[39m.\u001b[39mlast_generation_fitness)\n\u001b[1;32m   1413\u001b[0m \u001b[39m# Appending the best solution in the current generation to the best_solutions list.\u001b[39;00m\n",
      "File \u001b[0;32m/opt/homebrew/anaconda3/envs/deeplearning/lib/python3.9/site-packages/pygad/pygad.py:1274\u001b[0m, in \u001b[0;36mGA.cal_pop_fitness\u001b[0;34m(self)\u001b[0m\n\u001b[1;32m   1271\u001b[0m         solutions_to_submit\u001b[39m.\u001b[39mappend(sol\u001b[39m.\u001b[39mcopy())\n\u001b[1;32m   1272\u001b[0m         solutions_to_submit_indices\u001b[39m.\u001b[39mappend(sol_idx)\n\u001b[0;32m-> 1274\u001b[0m \u001b[39mfor\u001b[39;00m index, fitness \u001b[39min\u001b[39;00m \u001b[39mzip\u001b[39m(solutions_to_submit_indices, executor\u001b[39m.\u001b[39mmap(\u001b[39mself\u001b[39m\u001b[39m.\u001b[39mfitness_func, solutions_to_submit, \u001b[39mrange\u001b[39m(\u001b[39mlen\u001b[39m(solutions_to_submit_indices)))):\n\u001b[1;32m   1275\u001b[0m     \u001b[39mif\u001b[39;00m \u001b[39mtype\u001b[39m(fitness) \u001b[39min\u001b[39;00m GA\u001b[39m.\u001b[39msupported_int_float_types:\n\u001b[1;32m   1276\u001b[0m         pop_fitness[index] \u001b[39m=\u001b[39m fitness\n",
      "File \u001b[0;32m/opt/homebrew/anaconda3/envs/deeplearning/lib/python3.9/concurrent/futures/_base.py:609\u001b[0m, in \u001b[0;36mExecutor.map.<locals>.result_iterator\u001b[0;34m()\u001b[0m\n\u001b[1;32m    606\u001b[0m \u001b[39mwhile\u001b[39;00m fs:\n\u001b[1;32m    607\u001b[0m     \u001b[39m# Careful not to keep a reference to the popped future\u001b[39;00m\n\u001b[1;32m    608\u001b[0m     \u001b[39mif\u001b[39;00m timeout \u001b[39mis\u001b[39;00m \u001b[39mNone\u001b[39;00m:\n\u001b[0;32m--> 609\u001b[0m         \u001b[39myield\u001b[39;00m fs\u001b[39m.\u001b[39;49mpop()\u001b[39m.\u001b[39;49mresult()\n\u001b[1;32m    610\u001b[0m     \u001b[39melse\u001b[39;00m:\n\u001b[1;32m    611\u001b[0m         \u001b[39myield\u001b[39;00m fs\u001b[39m.\u001b[39mpop()\u001b[39m.\u001b[39mresult(end_time \u001b[39m-\u001b[39m time\u001b[39m.\u001b[39mmonotonic())\n",
      "File \u001b[0;32m/opt/homebrew/anaconda3/envs/deeplearning/lib/python3.9/concurrent/futures/_base.py:441\u001b[0m, in \u001b[0;36mFuture.result\u001b[0;34m(self, timeout)\u001b[0m\n\u001b[1;32m    438\u001b[0m \u001b[39melif\u001b[39;00m \u001b[39mself\u001b[39m\u001b[39m.\u001b[39m_state \u001b[39m==\u001b[39m FINISHED:\n\u001b[1;32m    439\u001b[0m     \u001b[39mreturn\u001b[39;00m \u001b[39mself\u001b[39m\u001b[39m.\u001b[39m__get_result()\n\u001b[0;32m--> 441\u001b[0m \u001b[39mself\u001b[39;49m\u001b[39m.\u001b[39;49m_condition\u001b[39m.\u001b[39;49mwait(timeout)\n\u001b[1;32m    443\u001b[0m \u001b[39mif\u001b[39;00m \u001b[39mself\u001b[39m\u001b[39m.\u001b[39m_state \u001b[39min\u001b[39;00m [CANCELLED, CANCELLED_AND_NOTIFIED]:\n\u001b[1;32m    444\u001b[0m     \u001b[39mraise\u001b[39;00m CancelledError()\n",
      "File \u001b[0;32m/opt/homebrew/anaconda3/envs/deeplearning/lib/python3.9/threading.py:312\u001b[0m, in \u001b[0;36mCondition.wait\u001b[0;34m(self, timeout)\u001b[0m\n\u001b[1;32m    310\u001b[0m \u001b[39mtry\u001b[39;00m:    \u001b[39m# restore state no matter what (e.g., KeyboardInterrupt)\u001b[39;00m\n\u001b[1;32m    311\u001b[0m     \u001b[39mif\u001b[39;00m timeout \u001b[39mis\u001b[39;00m \u001b[39mNone\u001b[39;00m:\n\u001b[0;32m--> 312\u001b[0m         waiter\u001b[39m.\u001b[39;49macquire()\n\u001b[1;32m    313\u001b[0m         gotit \u001b[39m=\u001b[39m \u001b[39mTrue\u001b[39;00m\n\u001b[1;32m    314\u001b[0m     \u001b[39melse\u001b[39;00m:\n",
      "\u001b[0;31mKeyboardInterrupt\u001b[0m: "
     ]
    }
   ],
   "source": [
    "ga_instance.run()\n"
   ]
  },
  {
   "cell_type": "code",
   "execution_count": null,
   "metadata": {},
   "outputs": [
    {
     "data": {
      "image/png": "[encoded data removed]",
      "text/plain": [
       "<Figure size 432x288 with 1 Axes>"
      ]
     },
     "metadata": {
      "needs_background": "light"
     },
     "output_type": "display_data"
    },
    {
     "data": {
      "image/png": "[encoded data removed]",
      "text/plain": [
       "<Figure size 432x288 with 1 Axes>"
      ]
     },
     "execution_count": 6,
     "metadata": {},
     "output_type": "execute_result"
    }
   ],
   "source": [
    "ga_instance.plot_fitness()\n"
   ]
  },
  {
   "cell_type": "code",
   "execution_count": null,
   "metadata": {},
   "outputs": [
    {
     "data": {
      "text/plain": [
       "[2812818.256387844,\n",
       " 3.362071998982251,\n",
       " 0.3940522801128269,\n",
       " 194.80149420534428,\n",
       " 25754016.865657672,\n",
       " 3.420235396557527,\n",
       " 0.10121062177218446,\n",
       " 30.398990856569228,\n",
       " 1.8477644693415212,\n",
       " 2.520991984393139]"
      ]
     },
     "execution_count": 7,
     "metadata": {},
     "output_type": "execute_result"
    }
   ],
   "source": [
    "best_solution = ga_instance.best_solution()[0]\n",
    "denormalize(best_solution, bounds)"
   ]
  },
  {
   "cell_type": "code",
   "execution_count": null,
   "metadata": {},
   "outputs": [
    {
     "data": {
      "text/plain": [
       "0.2806127793477944"
      ]
     },
     "execution_count": 8,
     "metadata": {},
     "output_type": "execute_result"
    }
   ],
   "source": [
    "fitness_func(ga_instance.best_solution()[0], 0)"
   ]
  },
  {
   "cell_type": "code",
   "execution_count": null,
   "metadata": {},
   "outputs": [
    {
     "name": "stdout",
     "output_type": "stream",
     "text": [
      "0.2806127793477944\n"
     ]
    }
   ],
   "source": [
    "def rocket_func(parameters_list):\n",
    "    parameters_list = denormalize(parameters_list, bounds)\n",
    "    engineParams = {\"oxName\": \"LOX\",\n",
    "                    \"fuelName\": \"RP-1\",\n",
    "                    \"combPressure\": parameters_list[0],\n",
    "                    \"MR\": parameters_list[1],\n",
    "                    \"nozzleDiam\": parameters_list[2],\n",
    "                    \"eps\": parameters_list[3]}\n",
    "\n",
    "    engineParamsFirst = {\"oxName\": \"LOX\",\n",
    "                    \"fuelName\": \"RP-1\",\n",
    "                    \"combPressure\": parameters_list[4],\n",
    "                    \"MR\": parameters_list[5],\n",
    "                    \"nozzleDiam\": parameters_list[6],\n",
    "                    \"eps\": parameters_list[7]}\n",
    "\n",
    "    upperStageStructureParams = {\"oxName\": \"LOX\",\n",
    "                                 \"fuelName\": \"RP1\",\n",
    "                                 \"MR\": parameters_list[1],\n",
    "                                 \"tankPressure\": 0.1,\n",
    "                                 \"radius\": parameters_list[8],\n",
    "                                } # 0 porque ainda nao temos esse valor\n",
    "    firstStageStructureParams = {\"oxName\": \"LOX\",\n",
    "                                \"fuelName\": \"RP1\",\n",
    "                                \"MR\": parameters_list[5],\n",
    "                                \"tankPressure\": 0.1,\n",
    "                                \"radius\": parameters_list[9],\n",
    "                            } # 0 porque ainda nao temos esse valor\n",
    "    payloadBayParams = {\"payloadHeight\": 6.7,\n",
    "                    \"payloadRadius\": 4.6/2,\n",
    "                    \"payloadMass\": 7500,\n",
    "                    \"lowerStageRadius\": parameters_list[8],\n",
    "                    \"lowerRocketSurfaceArea\": 0} # 0 porque ainda nao temos esse valor\n",
    "\n",
    "    rocket_model = RocketModel(upperEngineParams=engineParams,\n",
    "                               firstEngineParams=engineParamsFirst,\n",
    "                               payloadBayParams=payloadBayParams,\n",
    "                               upperStageStructureParams=upperStageStructureParams,\n",
    "                               firstStageStructureParams = firstStageStructureParams,\n",
    "                               deltaV_upperStage=8500,\n",
    "                               deltaV_landing=2000,\n",
    "                               deltaV_firstStage=3500,\n",
    "                               nEnginesUpperStage=1,\n",
    "                               nEnignesFirstStage=10)\n",
    "    try:\n",
    "        rocket_model.build_all()\n",
    "        glow = rocket_model.glow\n",
    "    except:\n",
    "        glow = 1e19\n",
    "    if math.isnan(glow):\n",
    "        glow = 1e19\n",
    "    if math.isnan(rocket_model.m_0_1):\n",
    "        glow = 1e19\n",
    "    if math.isnan(rocket_model.m_0_2):\n",
    "        glow = 1e19\n",
    "    if rocket_model.m_0_1 <= 0:\n",
    "        glow = 1e19\n",
    "    if rocket_model.m_0_2 <= 0:\n",
    "        glow = 1e19\n",
    "    if rocket_model.m_p_1 <= 0:\n",
    "        glow = 1e19\n",
    "    if rocket_model.m_p_2 <= 0:\n",
    "        glow = 1e19\n",
    "    if rocket_model.upperStageStructure.oxTankCylHeight <=0:\n",
    "        glow = 1e19\n",
    "    if rocket_model.upperStageStructure.fuelTankCylHeight <= 0:\n",
    "        glow = 1e19\n",
    "    if rocket_model.firstStageStructure.oxTankCylHeight <=0:\n",
    "        glow = 1e19\n",
    "    if rocket_model.firstStageStructure.fuelTankCylHeight <=0:\n",
    "        glow = 1e19\n",
    "    if rocket_model.upperStageEngine.thrustVac * 1<= 0.8 * rocket_model.m_0_2 * 9.81:\n",
    "        glow = 1e19\n",
    "    if rocket_model.firstStageEngine.thrustSea * 10 <= 1.3 * rocket_model.glow * 9.81: # Multiplicar pelo número de motores (9)\n",
    "        glow = 1e19\n",
    "\n",
    "    #print(rocket_model.upperStageEngine.thrustVac)\n",
    "    #print(rocket_model.m_0_2)\n",
    "\n",
    "    if math.isnan(glow):\n",
    "        glow = 1e19\n",
    "    #glow = glow / 100000\n",
    "    fitness = 1.0/glow * 100000\n",
    "    print(fitness)\n",
    "    return rocket_model\n",
    "\n",
    "rocket_model = rocket_func(ga_instance.best_solution()[0])"
   ]
  },
  {
   "cell_type": "code",
   "execution_count": null,
   "metadata": {},
   "outputs": [
    {
     "name": "stdout",
     "output_type": "stream",
     "text": [
      "***** Payload Bay *****\n",
      "Cone Area: 37.653733282525664 [kg]\n",
      "Cylinder Area: 96.82388558363742 [kg]\n",
      "Frustrum Area: 39.24711702202246 [kg]\n",
      "Total Payload Fairing Mass: 1609.760647978943 [kg]\n",
      "Electronic Mass: 414.5588058903621 [kg]\n",
      "Power Mass: 96.37248560533249 [kg]\n",
      "Total Payload Mass: 9620.691939474636 [kg]\n",
      "***** Upper Stage Engine *****\n",
      "Isp Vac (s): 395.54229922357007\n",
      "Isp Sea (s): (236.1022545597154, 'Separated (Psep=4.96091e+06, epsSep=16.5582)')\n",
      "Mass flow (kg/s): 187.4125992873206\n",
      "Thrust Vac (kN): 881.4312006937672\n",
      "Thrust Sea (kN): -1494.259265119839\n",
      "***** Upper Stage Structure *****\n",
      "Ox Tank Cylyndrical Height: 3.868886287264167 [m]\n",
      "Fuel Tank Cylyndrical Height: 0.15488376661794642 [m]\n",
      "Ox Tank Volume: 67.92399940925776 [m3]\n",
      "Fuel Tank Volume: 28.087121880964514 [m3]\n",
      "Intertank Structure Mass: 828.2629688196562 [kg]\n",
      "Separation Explosives Mass: 8.370001987342933 [kg]\n",
      "Tank Fairing Mass: 612.9873158724041 [kg]\n",
      "Total Stage Height: 15.575528913046998 [m]\n",
      "Total Stage Dry Mass: 2885.2228843027433 [kg]\n",
      "Total Stage Surface Area: 161.42830413980232 [m2]\n",
      "***** First Stage Engine *****\n",
      "Isp Vac (s): 352.66521738422716\n",
      "Isp Sea (s): (332.7821431487997, 'UnderExpanded (Pe=1.78124e+07)')\n",
      "Mass flow (kg/s): 125.19942319434189\n",
      "Thrust Vac (kN): 485.099921316377\n",
      "Thrust Sea (kN): 460.6430311101884\n",
      "***** First Stage Structure *****\n",
      "Ox Tank Cylyndrical Height: 4.972333828664646 [m]\n",
      "Fuel Tank Cylyndrical Height: 0.08471155633480004 [m]\n",
      "Ox Tank Volume: 166.39045010969838 [m3]\n",
      "Fuel Tank Volume: 68.80379383877496 [m3]\n",
      "Intertank Structure Mass: 1692.3703448851224 [kg]\n",
      "Separation Explosives Mass: 203.91492851750561 [kg]\n",
      "Tank Fairing Mass: 848.1575155748874 [kg]\n",
      "Total Stage Height: 19.3017143043708 [m]\n",
      "Total Stage Dry Mass: 5595.940316764867 [kg]\n",
      "Total Stage Surface Area: 258.7602078509769 [m2]\n",
      "***** Rocket Characteristics *****\n",
      "Total Rocket Height: 49.766132106306685 [m]\n",
      "Propellant Mass - Upper Stage: 95680.7612085188 [kg]\n",
      "Propellant Mass - First Stage: 234384.97530747773 [kg]\n",
      "Total Mass - Upper Stage: 109340.53901516416 [kg]\n",
      "Total Mass - First Stage: 247022.4186249758 [kg]\n",
      "GLOW: 356362.95764013997 [kg]\n"
     ]
    }
   ],
   "source": [
    "rocket_model.print_all_parameters()"
   ]
  },
  {
   "cell_type": "code",
   "execution_count": null,
   "metadata": {},
   "outputs": [
    {
     "data": {
      "text/plain": [
       "0.08471155633480004"
      ]
     },
     "execution_count": 11,
     "metadata": {},
     "output_type": "execute_result"
    }
   ],
   "source": [
    "rocket_model.firstStageStructure.fuelTankCylHeight"
   ]
  },
  {
   "cell_type": "code",
   "execution_count": null,
   "metadata": {},
   "outputs": [
    {
     "data": {
      "text/plain": [
       "356362.95764013997"
      ]
     },
     "execution_count": 12,
     "metadata": {},
     "output_type": "execute_result"
    }
   ],
   "source": [
    "rocket_model.glow"
   ]
  },
  {
   "cell_type": "code",
   "execution_count": null,
   "metadata": {},
   "outputs": [
    {
     "data": {
      "text/plain": [
       "1e-19"
      ]
     },
     "execution_count": 13,
     "metadata": {},
     "output_type": "execute_result"
    }
   ],
   "source": [
    "1/1e19"
   ]
  },
  {
   "cell_type": "code",
   "execution_count": null,
   "metadata": {},
   "outputs": [
    {
     "data": {
      "text/plain": [
       "[2812818.256387844,\n",
       " 3.362071998982251,\n",
       " 0.3940522801128269,\n",
       " 194.80149420534428,\n",
       " 25754016.865657672,\n",
       " 3.420235396557527,\n",
       " 0.10121062177218446,\n",
       " 30.398990856569228,\n",
       " 1.8477644693415212,\n",
       " 2.520991984393139]"
      ]
     },
     "execution_count": 14,
     "metadata": {},
     "output_type": "execute_result"
    }
   ],
   "source": [
    "denormalize(ga_instance.best_solution()[0], bounds)"
   ]
  }
 ],
 "metadata": {
  "kernelspec": {
   "display_name": "deeplearning",
   "language": "python",
   "name": "python3"
  },
  "language_info": {
   "codemirror_mode": {
    "name": "ipython",
    "version": 3
   },
   "file_extension": ".py",
   "mimetype": "text/x-python",
   "name": "python",
   "nbconvert_exporter": "python",
   "pygments_lexer": "ipython3",
   "version": "3.9.13"
  },
  "orig_nbformat": 4,
  "vscode": {
   "interpreter": {
    "hash": "fed2aa9592218c4b4de25ecb09c6b292eb81f342cc059d9c96856c64676dbef4"
   }
  }
 },
 "nbformat": 4,
 "nbformat_minor": 2
}
