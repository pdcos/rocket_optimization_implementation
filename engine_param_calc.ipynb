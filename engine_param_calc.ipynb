{
 "cells": [
  {
   "cell_type": "code",
   "execution_count": 2,
   "metadata": {},
   "outputs": [],
   "source": [
    "from rocketcea.cea_obj_w_units import CEA_Obj\n",
    "from proptools import nozzle  \n",
    "import numpy as np"
   ]
  },
  {
   "cell_type": "code",
   "execution_count": 56,
   "metadata": {},
   "outputs": [
    {
     "name": "stdout",
     "output_type": "stream",
     "text": [
      "Isp Vac: 305.5677676625125\n",
      "Isp Sea: (274.39544109463185, 'OverExpanded (Pe=1.39683e+07)')\n",
      "Mass flow: 294.4607412091103\n",
      "Thrust Vac: 905.7796996285897\n",
      "Thrust Sea: 815.8996996285897\n"
     ]
    }
   ],
   "source": [
    "class Engine:\n",
    "    def __init__(self,\n",
    "                 fuelName:str,\n",
    "                 oxName:str,\n",
    "                 MR:float,\n",
    "                 Pc:float,\n",
    "                 eps:float,\n",
    "                 nozzleDiam = None,\n",
    "                 At=None):\n",
    "        \"\"\"\n",
    "        fuel_name: \n",
    "        ox_name (oxidizer name):\n",
    "        mr (mixture ratio):\n",
    "        nozzle_diam (nozzle throat diameter):\n",
    "        esp (nozzle expansion ratio)\n",
    "        At (Area - throat)\n",
    "        \"\"\"\n",
    "        \n",
    "        self.fuel_name = fuelName\n",
    "        self.ox_name = oxName\n",
    "        self.MR = MR\n",
    "        self.Pc = Pc\n",
    "        self.nozzleDiam = nozzleDiam\n",
    "        self.eps = eps\n",
    "        self.At = At\n",
    "\n",
    "        # Podemos escolher informar o diametro do throat ou a area\n",
    "        if ((self.At == None) and (self.nozzleDiam != None)):\n",
    "            self.At = np.pi * ((self.nozzleDiam/2) ** 2)\n",
    "        elif ((self.At == None) and (self.nozzleDiam == None)):\n",
    "            raise(\"Informar At ou nozzleDiam\")\n",
    "        elif ((self.At != None) and (self.nozzleDiam != None)):\n",
    "            raise(\"Informar apenas 1: At ou nozzleDiam\")\n",
    "\n",
    "        # Pressao precisa estar em MPa apesar e dados precisam ser fornecidos na ordem de 1e6\n",
    "        self.ceaObj = CEA_Obj( oxName=oxName, fuelName=fuelName, pressure_units='MPa', cstar_units='m/s', temperature_units='K')\n",
    "\n",
    "    def calcGasProperties(self):\n",
    "        # mw -> Molecular weight\n",
    "        # Cstar -> Characteristc velocity (Isp * g0 / Cf)\n",
    "        IspVac, Cstar, Tc, mw, gamma = self.ceaObj.get_IvacCstrTc_ChmMwGam(Pc=self.Pc, MR=self.MR, eps=self.eps)\n",
    "        return\n",
    "    \n",
    "    def calcEngineProperties(self):\n",
    "        IspVac, Cstar, Tc, mw, gamma = self.ceaObj.get_IvacCstrTc_ChmMwGam(Pc=self.Pc, MR=self.MR, eps=self.eps)\n",
    "        m_molar = mw/1000\n",
    "        IspSea = self.ceaObj.estimate_Ambient_Isp(Pc=self.Pc, MR=self.MR, eps=self.eps, Pamb=1e5)\n",
    "        Pc = self.Pc \n",
    "\n",
    "\n",
    "        Pe = Pc * nozzle.pressure_from_er(self.eps, gamma)\n",
    "        # Empuxo no vacuo (N)\n",
    "        ThrustVac = nozzle.thrust(A_t = self.At,\n",
    "                                  p_c = Pc,\n",
    "                                  p_e = Pe,\n",
    "                                  p_a = 0,\n",
    "                                  gamma=gamma,\n",
    "                                  er = self.eps)\n",
    "        # Empuxo no nivel do mar (N)\n",
    "        ThrustSea = nozzle.thrust(A_t = self.At,\n",
    "                                  p_c = Pc,\n",
    "                                  p_e = Pe,\n",
    "                                  p_a = 1e5,\n",
    "                                  gamma=gamma,\n",
    "                                  er = self.eps)\n",
    "        # Fluxo de mass (kg/s)\n",
    "        mass_flow = nozzle.mass_flow(A_t = self.At,\n",
    "                                     p_c = Pc,\n",
    "                                     T_c = Tc,\n",
    "                                     gamma = gamma,\n",
    "                                     m_molar = m_molar\n",
    "                                     )   \n",
    "\n",
    "        print(\"Isp Vac: \" + str(IspVac))\n",
    "        print(\"Isp Sea: \" + str(IspSea))\n",
    "        print(\"Mass flow: \" + str(mass_flow))\n",
    "        print(\"Thrust Vac: \" + str(ThrustVac/1000))\n",
    "        print(\"Thrust Sea: \" + str(ThrustSea/1000))\n",
    "\n",
    "engine = Engine(fuelName=\"RP-1\", \n",
    "                oxName=\"LOX\",\n",
    "                MR=2.36,\n",
    "                Pc=9.7*1e6 ,\n",
    "                At=0.042,\n",
    "                eps=21.4)\n",
    "\n",
    "engine.calcEngineProperties()\n",
    "\n",
    "\n",
    "    \n"
   ]
  },
  {
   "cell_type": "code",
   "execution_count": 54,
   "metadata": {},
   "outputs": [
    {
     "name": "stdout",
     "output_type": "stream",
     "text": [
      "Isp Vac: 343.62656740037494\n",
      "Isp Sea: (138.72158902076214, 'Separated (Psep=4.24381e+06, epsSep=64.2578)')\n",
      "Mass flow: 186.7508523473767\n",
      "Thrust Vac: 714.5433289320969\n",
      "Thrust Sea: 223.14332893209672\n"
     ]
    }
   ],
   "source": [
    "engine = Engine(fuelName=\"RP-1\", \n",
    "                oxName=\"LOX\",\n",
    "                MR=2.17,\n",
    "                Pc=6.14*1e6 ,\n",
    "                At=0.042,\n",
    "                eps=117)\n",
    "\n",
    "engine.calcEngineProperties()\n"
   ]
  }
 ],
 "metadata": {
  "kernelspec": {
   "display_name": "deeplearning",
   "language": "python",
   "name": "python3"
  },
  "language_info": {
   "codemirror_mode": {
    "name": "ipython",
    "version": 3
   },
   "file_extension": ".py",
   "mimetype": "text/x-python",
   "name": "python",
   "nbconvert_exporter": "python",
   "pygments_lexer": "ipython3",
   "version": "3.9.13"
  },
  "orig_nbformat": 4,
  "vscode": {
   "interpreter": {
    "hash": "fed2aa9592218c4b4de25ecb09c6b292eb81f342cc059d9c96856c64676dbef4"
   }
  }
 },
 "nbformat": 4,
 "nbformat_minor": 2
}
